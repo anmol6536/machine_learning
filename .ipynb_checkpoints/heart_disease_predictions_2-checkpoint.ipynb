{
 "cells": [
  {
   "cell_type": "code",
   "execution_count": 2,
   "metadata": {},
   "outputs": [],
   "source": [
    "import pandas as pd\n",
    "import seaborn as sns\n",
    "df = pd.read_csv('/Users/anmol_gorakshakar/python/machine_learning/heart_disease/heart_disease.csv')"
   ]
  },
  {
   "cell_type": "code",
   "execution_count": 3,
   "metadata": {},
   "outputs": [
    {
     "data": {
      "text/plain": [
       "<matplotlib.axes._subplots.AxesSubplot at 0x7f856eaa10a0>"
      ]
     },
     "execution_count": 3,
     "metadata": {},
     "output_type": "execute_result"
    },
    {
     "data": {
      "image/png": "[encoded data removed]",
      "text/plain": [
       "<Figure size 432x288 with 1 Axes>"
      ]
     },
     "metadata": {},
     "output_type": "display_data"
    }
   ],
   "source": [
    "df.HeartDisease.value_counts().plot(kind='pie')"
   ]
  },
  {
   "cell_type": "code",
   "execution_count": 4,
   "metadata": {},
   "outputs": [],
   "source": [
    "def df_cleanup(data):\n",
    "    working_data = data.copy()\n",
    "    index = {}\n",
    "    for header in working_data:\n",
    "        if working_data[header].dtype == 'O':\n",
    "            unique_values_in_column = list(working_data[header].unique())\n",
    "            column_indexer = {k:v for k,v in enumerate(unique_values_in_column)}\n",
    "            index[header] = column_indexer\n",
    "            working_data[header] = working_data[header].replace({v:k for k,v in column_indexer.items()})\n",
    "    \n",
    "    return working_data, index"
   ]
  },
  {
   "cell_type": "code",
   "execution_count": 5,
   "metadata": {},
   "outputs": [],
   "source": [
    "working_data , index = df_cleanup(df)"
   ]
  },
  {
   "cell_type": "code",
   "execution_count": 6,
   "metadata": {},
   "outputs": [],
   "source": [
    "categorical_cols = ['Sex', 'ChestPainType', 'RestingECG', 'ExerciseAngina', 'ST_Slope']\n",
    "numerical_cols = [i for i in working_data.columns if i not in categorical_cols]"
   ]
  },
  {
   "cell_type": "code",
   "execution_count": 7,
   "metadata": {},
   "outputs": [],
   "source": [
    "label = working_data.pop('HeartDisease')"
   ]
  },
  {
   "cell_type": "code",
   "execution_count": 8,
   "metadata": {},
   "outputs": [],
   "source": [
    "from collections import Counter\n",
    "import math\n",
    "import scipy.stats as ss\n",
    "\n",
    "def conditional_entropy(x,y):\n",
    "    y_counter = Counter(y)\n",
    "    xy_counter = Counter(list(zip(x,y)))\n",
    "    total_occurances = sum(y_counter.values())\n",
    "    entropy = 0.\n",
    "    for xy in xy_counter.keys():\n",
    "        p_y = y_counter[xy[1]]/total_occurances\n",
    "        p_xy = xy_counter[xy]/total_occurances\n",
    "        entropy += p_xy * math.log(p_y/ p_xy, math.e)\n",
    "    return entropy\n",
    "\n",
    "def theils_u(x,y):\n",
    "    # coeff = (H(X) - H(X|Y)) / H(X) \n",
    "    h_xy = conditional_entropy(x,y)\n",
    "    x_counter = Counter(x)\n",
    "    total_occurances = sum(x_counter.values())\n",
    "    p_x = list(map(lambda x: x / total_occurances, x_counter.values()))\n",
    "    h_x = ss.entropy(p_x)\n",
    "    if h_x == 0:\n",
    "        return 1\n",
    "    else: \n",
    "        return (h_x - h_xy)/h_x\n",
    "\n"
   ]
  },
  {
   "cell_type": "code",
   "execution_count": 9,
   "metadata": {},
   "outputs": [],
   "source": [
    "def calculate_entropy_for_dataframe(df, label, header = None):\n",
    "    if header == None:\n",
    "        header = df.columns\n",
    "    d = {}\n",
    "    for h in header:\n",
    "        d[h] = theils_u(df[h], label)\n",
    "    return d"
   ]
  },
  {
   "cell_type": "code",
   "execution_count": 10,
   "metadata": {},
   "outputs": [],
   "source": [
    "def numerical_corr(x,y):\n",
    "    r = ss.pointbiserialr(x, y).correlation\n",
    "    return r\n",
    "\n",
    "def calculate_entropy_for_dataframe_numerical_data(df, label, header = None):\n",
    "    if header == None:\n",
    "        header = df.columns\n",
    "    d = {}\n",
    "    for h in header:\n",
    "        d[h] = numerical_corr(df[h], label)\n",
    "    return d"
   ]
  },
  {
   "cell_type": "code",
   "execution_count": 11,
   "metadata": {},
   "outputs": [],
   "source": [
    "correlation_data = {}\n",
    "correlation_data.update(calculate_entropy_for_dataframe(working_data, \n",
    "                                                        label, \n",
    "                                                        header=categorical_cols))"
   ]
  },
  {
   "cell_type": "code",
   "execution_count": 12,
   "metadata": {},
   "outputs": [],
   "source": [
    "correlation_data.update(calculate_entropy_for_dataframe_numerical_data(working_data, \n",
    "                                                                       label, \n",
    "                                                                       header=numerical_cols[:-1]))"
   ]
  },
  {
   "cell_type": "code",
   "execution_count": 13,
   "metadata": {},
   "outputs": [],
   "source": [
    "sifnificant_cols = [k for k,v in correlation_data.items() if abs(v)>0.1]"
   ]
  },
  {
   "cell_type": "code",
   "execution_count": 14,
   "metadata": {},
   "outputs": [
    {
     "data": {
      "text/plain": [
       "['ChestPainType',\n",
       " 'ExerciseAngina',\n",
       " 'ST_Slope',\n",
       " 'Age',\n",
       " 'RestingBP',\n",
       " 'Cholesterol',\n",
       " 'FastingBS',\n",
       " 'MaxHR',\n",
       " 'Oldpeak']"
      ]
     },
     "execution_count": 14,
     "metadata": {},
     "output_type": "execute_result"
    }
   ],
   "source": [
    "sifnificant_cols"
   ]
  },
  {
   "cell_type": "code",
   "execution_count": null,
   "metadata": {},
   "outputs": [],
   "source": []
  },
  {
   "cell_type": "code",
   "execution_count": null,
   "metadata": {},
   "outputs": [],
   "source": []
  },
  {
   "cell_type": "code",
   "execution_count": null,
   "metadata": {},
   "outputs": [],
   "source": []
  },
  {
   "cell_type": "markdown",
   "metadata": {},
   "source": [
    "# OLD MODEL"
   ]
  },
  {
   "cell_type": "markdown",
   "metadata": {},
   "source": [
    "def preprocess_categorical(dataframe):\n",
    "    df = dataframe.copy()\n",
    "    cols = df.columns\n",
    "    for col in cols:\n",
    "        categorical_dict = {}\n",
    "        if df[col].dtype == 'object':\n",
    "            unique_values = {v:k for k,v in zip(range(len(df[col].unique())), df[col].unique())}\n",
    "            categorical_dict[col] = unique_values\n",
    "            print(unique_values)\n",
    "            df[col] = df[col].apply(lambda x: unique_values[x])\n",
    "    return df\n",
    "\n",
    "processed_df = preprocess_categorical(df)"
   ]
  },
  {
   "cell_type": "markdown",
   "metadata": {},
   "source": [
    "import tensorflow as tf\n",
    "from sklearn.model_selection import train_test_split"
   ]
  },
  {
   "cell_type": "markdown",
   "metadata": {},
   "source": [
    "X_train, X_test = train_test_split(processed_df, \n",
    "                         test_size = 0.1,\n",
    "                         stratify=processed_df.HeartDisease)\n",
    "\n",
    "X_train_label = X_train.HeartDisease\n",
    "X_train = X_train[[i for i in X_train if i!='HeartDisease']]\n",
    "\n",
    "\n",
    "X_train = X_train.to_numpy()\n",
    "X_train = np.reshape(X_train, (X_train.shape[0],1,X_train.shape[1]))"
   ]
  },
  {
   "cell_type": "markdown",
   "metadata": {},
   "source": [
    "from keras.layers import Dense, Dropout, Activation, LSTM, Flatten, MaxPooling1D, Conv1D\n",
    "from keras.models import Sequential\n",
    "\n",
    "model = Sequential()\n",
    "model.add(LSTM(units=64, input_shape=(1, 11), return_sequences=True))\n",
    "# model.add(LSTM(units=64, input_shape=(1, 5), return_sequences=True))\n",
    "\n",
    "model.add(Activation('relu'))\n",
    "\n",
    "model.add(LSTM(units=128, return_sequences=True))\n",
    "model.add(Activation('relu'))\n",
    "\n",
    "model.add(LSTM(units=256, return_sequences=True))\n",
    "model.add(Activation('relu'))\n",
    "\n",
    "model.add(LSTM(units=512, return_sequences=True))\n",
    "model.add(Activation('relu'))\n",
    "\n",
    "model.add(Conv1D(filters=1024, kernel_size=(1)))\n",
    "model.add(Activation('relu'))\n",
    "model.add(MaxPooling1D(pool_size=(1)))\n",
    "\n",
    "model.add(Conv1D(filters=2048, kernel_size=(1)))\n",
    "model.add(Activation('relu'))\n",
    "model.add(MaxPooling1D(pool_size=(1)))\n",
    "\n",
    "model.add(Flatten())\n",
    "\n",
    "model.add(Dense(500))\n",
    "model.add(Activation('relu'))\n",
    "\n",
    "model.add(Dense(100))\n",
    "model.add(Activation('relu'))\n",
    "\n",
    "model.add(Dropout(0.2))\n",
    "\n",
    "model.add(Dense(1))\n",
    "model.add(Activation('sigmoid'))\n",
    "\n",
    "model.compile(optimizer=\"Adamax\", loss=\"binary_crossentropy\", metrics=[\"accuracy\"])"
   ]
  },
  {
   "cell_type": "markdown",
   "metadata": {},
   "source": [
    "import tensorflow as tf\n",
    "cb = tf.keras.callbacks.EarlyStopping(monitor='accuracy', patience=5)"
   ]
  },
  {
   "cell_type": "markdown",
   "metadata": {
    "scrolled": false
   },
   "source": [
    "hst = model.fit(tf.cast(X_train, tf.float32), \n",
    "                tf.cast(X_train_label, tf.int8),\n",
    "                validation_split=0.1, \n",
    "                epochs =25,\n",
    "                batch_size=16, \n",
    "                shuffle=True,\n",
    "                callbacks=cb)"
   ]
  },
  {
   "cell_type": "markdown",
   "metadata": {},
   "source": [
    "X_test_label = X_test.HeartDisease\n",
    "X_test = X_test[[i for i in X_test if i!='HeartDisease']]\n",
    "X_test = X_test.to_numpy()\n",
    "X_test = np.reshape(X_test, (X_test.shape[0],1,X_test.shape[1]))\n",
    "model.evaluate(tf.cast(X_test, tf.float32), \n",
    "                tf.cast(X_test_label, tf.int8))"
   ]
  },
  {
   "cell_type": "markdown",
   "metadata": {},
   "source": [
    "predicted = []\n",
    "for i in range(df.shape[0]):\n",
    "    p = model.predict(np.reshape(np.array(processed_df.loc[i][:-1]), (1,1,11)))[0][0][0]\n",
    "    predicted.append(p)\n",
    "    \n",
    "df['predicted'] = [*map(round ,predicted)]\n",
    "series = df.apply(lambda x: x['HeartDisease']==x['predicted'] , axis=1)\n",
    "series.value_counts().plot(kind='bar')"
   ]
  },
  {
   "cell_type": "markdown",
   "metadata": {},
   "source": [
    "# round3\n",
    "epochs = len(hst.epoch)\n",
    "accuracy = hst.history['accuracy']\n",
    "loss = hst.history['loss']\n",
    "val_loss = hst.history['val_loss']\n",
    "val_accuracy = hst.history['val_accuracy']\n",
    "\n",
    "plt.figure(figsize=(17, 7))\n",
    "plt.subplot(2, 2, 1)\n",
    "plt.plot(range(epochs), accuracy, label='Training Accuracy')\n",
    "plt.plot(range(epochs), val_accuracy, label='Validation Accuracy')\n",
    "plt.legend(loc='lower right')\n",
    "plt.title('Accuracy : Training vs. Validation ')\n",
    "\n",
    "plt.subplot(2, 2, 2)\n",
    "plt.plot(range(epochs), loss, label='Training Loss')\n",
    "plt.plot(range(epochs), val_loss, label='Validation Loss')\n",
    "plt.title('Loss : Training vs. Validation ')\n",
    "plt.legend(loc='upper right')\n",
    "plt.show()"
   ]
  },
  {
   "cell_type": "markdown",
   "metadata": {},
   "source": [
    "# New Model"
   ]
  },
  {
   "cell_type": "code",
   "execution_count": null,
   "metadata": {},
   "outputs": [],
   "source": [
    "import numpy as np\n",
    "import pandas as pd\n",
    "import matplotlib.pyplot as plt\n",
    "import seaborn as sns #for plotting\n",
    "from sklearn.ensemble import RandomForestClassifier #for the model\n",
    "from sklearn.tree import DecisionTreeClassifier\n",
    "from sklearn.tree import export_graphviz #plot tree\n",
    "from sklearn.metrics import roc_curve, auc #for model evaluation\n",
    "from sklearn.metrics import classification_report #for model evaluation\n",
    "from sklearn.metrics import confusion_matrix #for model evaluation\n",
    "from sklearn.model_selection import train_test_split #for data splitting\n",
    "import eli5 #for purmutation importance\n",
    "from eli5.sklearn import PermutationImportance\n",
    "import shap #for SHAP values\n",
    "from pdpbox import pdp, info_plots #for partial plots\n",
    "np.random.seed(123) #ensure reproducibility\n",
    "\n",
    "pd.options.mode.chained_assignment = None  #hide any pandas warnings"
   ]
  },
  {
   "cell_type": "code",
   "execution_count": 15,
   "metadata": {},
   "outputs": [],
   "source": [
    "import tensorflow as tf"
   ]
  },
  {
   "cell_type": "markdown",
   "metadata": {},
   "source": [
    "# Model creation"
   ]
  },
  {
   "cell_type": "code",
   "execution_count": 16,
   "metadata": {},
   "outputs": [],
   "source": [
    "def dataset_from_dataframe(df, label, batch_size=32):\n",
    "    data = df.copy()\n",
    "    data = tf.data.Dataset.from_tensor_slices((dict(df), label))\n",
    "    data = data.batch(batch_size)\n",
    "    data = data.prefetch(batch_size)\n",
    "    return data"
   ]
  },
  {
   "cell_type": "code",
   "execution_count": 17,
   "metadata": {},
   "outputs": [],
   "source": [
    "def get_categorical_encoding_layer(feature, dataset, dtype, max_tokens):\n",
    "    index = pp.IntegerLookup(max_values=max_tokens, oov_value=-2) # integer lookup initialization \n",
    "    feature_ds = dataset.map(lambda x, y: x[feature]) # slice dataset to get the feature column\n",
    "    index.adapt(feature_ds) # analyze the feature column to generate a vocabulary \n",
    "    encoder = pp.CategoryEncoding(max_tokens=len(index.get_vocabulary())) # generate an encoding layer \n",
    "    return lambda feature: encoder(index(feature)) #returns a encoder which takes feature as argument\n",
    "\n",
    "def get_normalization_layer(feature, dataset):\n",
    "    normalizer = pp.Normalization(axis=None)\n",
    "    feature_ds = dataset.map(lambda x, y: x[feature])\n",
    "    normalizer.adapt(feature_ds)\n",
    "    return normalizer"
   ]
  },
  {
   "cell_type": "code",
   "execution_count": 18,
   "metadata": {},
   "outputs": [],
   "source": [
    "ds = working_data[sifnificant_cols]"
   ]
  },
  {
   "cell_type": "code",
   "execution_count": 19,
   "metadata": {},
   "outputs": [],
   "source": [
    "batch_size = 32"
   ]
  },
  {
   "cell_type": "code",
   "execution_count": 20,
   "metadata": {},
   "outputs": [
    {
     "ename": "NameError",
     "evalue": "name 'train_test_split' is not defined",
     "output_type": "error",
     "traceback": [
      "\u001b[0;31m---------------------------------------------------------------------------\u001b[0m",
      "\u001b[0;31mNameError\u001b[0m                                 Traceback (most recent call last)",
      "\u001b[0;32m<ipython-input-20-2e08565b6178>\u001b[0m in \u001b[0;36m<module>\u001b[0;34m\u001b[0m\n\u001b[0;32m----> 1\u001b[0;31m \u001b[0mtrain\u001b[0m\u001b[0;34m,\u001b[0m \u001b[0mtest\u001b[0m\u001b[0;34m,\u001b[0m \u001b[0mtrain_label\u001b[0m\u001b[0;34m,\u001b[0m \u001b[0mtest_label\u001b[0m \u001b[0;34m=\u001b[0m \u001b[0mtrain_test_split\u001b[0m\u001b[0;34m(\u001b[0m\u001b[0mds\u001b[0m\u001b[0;34m,\u001b[0m \u001b[0mlabel\u001b[0m\u001b[0;34m,\u001b[0m \u001b[0mtest_size\u001b[0m\u001b[0;34m=\u001b[0m\u001b[0;36m0.2\u001b[0m\u001b[0;34m)\u001b[0m\u001b[0;34m\u001b[0m\u001b[0;34m\u001b[0m\u001b[0m\n\u001b[0m\u001b[1;32m      2\u001b[0m \u001b[0mtrain\u001b[0m\u001b[0;34m,\u001b[0m \u001b[0mval\u001b[0m\u001b[0;34m,\u001b[0m \u001b[0mtrain_label\u001b[0m\u001b[0;34m,\u001b[0m \u001b[0mval_label\u001b[0m \u001b[0;34m=\u001b[0m \u001b[0mtrain_test_split\u001b[0m\u001b[0;34m(\u001b[0m\u001b[0mtrain\u001b[0m\u001b[0;34m,\u001b[0m \u001b[0mtrain_label\u001b[0m\u001b[0;34m,\u001b[0m \u001b[0mtest_size\u001b[0m\u001b[0;34m=\u001b[0m\u001b[0;36m0.2\u001b[0m\u001b[0;34m)\u001b[0m\u001b[0;34m\u001b[0m\u001b[0;34m\u001b[0m\u001b[0m\n\u001b[1;32m      3\u001b[0m \u001b[0;34m\u001b[0m\u001b[0m\n\u001b[1;32m      4\u001b[0m \u001b[0mtrain_ds\u001b[0m \u001b[0;34m=\u001b[0m \u001b[0mdataset_from_dataframe\u001b[0m\u001b[0;34m(\u001b[0m\u001b[0mtrain\u001b[0m\u001b[0;34m,\u001b[0m \u001b[0mtrain_label\u001b[0m\u001b[0;34m)\u001b[0m\u001b[0;34m\u001b[0m\u001b[0;34m\u001b[0m\u001b[0m\n\u001b[1;32m      5\u001b[0m \u001b[0mval_ds\u001b[0m \u001b[0;34m=\u001b[0m \u001b[0mdataset_from_dataframe\u001b[0m\u001b[0;34m(\u001b[0m\u001b[0mval\u001b[0m\u001b[0;34m,\u001b[0m \u001b[0mval_label\u001b[0m\u001b[0;34m)\u001b[0m\u001b[0;34m\u001b[0m\u001b[0;34m\u001b[0m\u001b[0m\n",
      "\u001b[0;31mNameError\u001b[0m: name 'train_test_split' is not defined"
     ]
    }
   ],
   "source": [
    "train, test, train_label, test_label = train_test_split(ds, label, test_size=0.2)\n",
    "train, val, train_label, val_label = train_test_split(train, train_label, test_size=0.2)\n",
    "\n",
    "train_ds = dataset_from_dataframe(train, train_label)\n",
    "val_ds = dataset_from_dataframe(val, val_label)\n",
    "test_ds = dataset_from_dataframe(test, test_label)"
   ]
  },
  {
   "cell_type": "code",
   "execution_count": null,
   "metadata": {},
   "outputs": [],
   "source": [
    "from tensorflow.keras.layers.experimental import preprocessing as pp\n",
    "all_inputs = []\n",
    "encoded_inputs = []\n",
    "\n",
    "for header in categorical_cols:\n",
    "    print('processing', header)\n",
    "    categorical_col = tf.keras.Input(shape=(1,), name=header, dtype='int32')\n",
    "    encoding_layer = get_categorical_encoding_layer(feature=header, \n",
    "                                              dataset=train_ds,\n",
    "                                              dtype='int32',\n",
    "                                              max_tokens=5 #random_number do optimize\n",
    "                                             )\n",
    "    print('got encoding_layer')\n",
    "    encoded_categorical_col = encoding_layer(categorical_col)\n",
    "    all_inputs.append(categorical_col)\n",
    "    encoded_inputs.append(encoded_categorical_col)\n",
    "    \n",
    "for header in numerical_cols:\n",
    "    numerical_col = tf.keras.Input(shape=(1,), name=header)\n",
    "    normalization_layer = get_normalization_layer(feature=header, \n",
    "                                                  dataset=train_ds\n",
    "                                                 )\n",
    "    normalized_numerical_layer = normalization_layer(numerical_col)\n",
    "    all_inputs.append(numerical_col)\n",
    "    encoded_inputs.append(normalized_numerical_layer)\n",
    "    "
   ]
  },
  {
   "cell_type": "code",
   "execution_count": null,
   "metadata": {},
   "outputs": [],
   "source": [
    "train_ds.apply(lambda x, y: print(x,y))"
   ]
  },
  {
   "cell_type": "code",
   "execution_count": null,
   "metadata": {},
   "outputs": [],
   "source": []
  }
 ],
 "metadata": {
  "kernelspec": {
   "display_name": "Python 3",
   "language": "python",
   "name": "python3"
  },
  "language_info": {
   "codemirror_mode": {
    "name": "ipython",
    "version": 3
   },
   "file_extension": ".py",
   "mimetype": "text/x-python",
   "name": "python",
   "nbconvert_exporter": "python",
   "pygments_lexer": "ipython3",
   "version": "3.8.3"
  }
 },
 "nbformat": 4,
 "nbformat_minor": 4
}
