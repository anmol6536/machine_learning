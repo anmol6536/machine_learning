{
 "cells": [
  {
   "cell_type": "code",
   "execution_count": 1,
   "metadata": {
    "scrolled": true
   },
   "outputs": [
    {
     "name": "stdout",
     "output_type": "stream",
     "text": [
      "Collecting kaggle\n",
      "  Downloading kaggle-1.5.12.tar.gz (58 kB)\n",
      "\u001b[K     |████████████████████████████████| 58 kB 1.5 MB/s eta 0:00:01\n",
      "\u001b[?25hRequirement already satisfied: six>=1.10 in /Users/anmol_gorakshakar/python/anaconda3/envs/scratch/lib/python3.8/site-packages (from kaggle) (1.15.0)\n",
      "Requirement already satisfied: certifi in /Users/anmol_gorakshakar/python/anaconda3/envs/scratch/lib/python3.8/site-packages (from kaggle) (2020.12.5)\n",
      "Requirement already satisfied: python-dateutil in /Users/anmol_gorakshakar/python/anaconda3/envs/scratch/lib/python3.8/site-packages (from kaggle) (2.8.1)\n",
      "Requirement already satisfied: requests in /Users/anmol_gorakshakar/python/anaconda3/envs/scratch/lib/python3.8/site-packages (from kaggle) (2.24.0)\n",
      "Requirement already satisfied: tqdm in /Users/anmol_gorakshakar/python/anaconda3/envs/scratch/lib/python3.8/site-packages (from kaggle) (4.60.0)\n",
      "Collecting python-slugify\n",
      "  Downloading python_slugify-5.0.2-py2.py3-none-any.whl (6.7 kB)\n",
      "Requirement already satisfied: urllib3 in /Users/anmol_gorakshakar/python/anaconda3/envs/scratch/lib/python3.8/site-packages (from kaggle) (1.25.10)\n",
      "Requirement already satisfied: chardet<4,>=3.0.2 in /Users/anmol_gorakshakar/python/anaconda3/envs/scratch/lib/python3.8/site-packages (from requests->kaggle) (3.0.4)\n",
      "Requirement already satisfied: idna<3,>=2.5 in /Users/anmol_gorakshakar/python/anaconda3/envs/scratch/lib/python3.8/site-packages (from requests->kaggle) (2.10)\n",
      "Collecting text-unidecode>=1.3\n",
      "  Downloading text_unidecode-1.3-py2.py3-none-any.whl (78 kB)\n",
      "\u001b[K     |████████████████████████████████| 78 kB 4.6 MB/s eta 0:00:01\n",
      "\u001b[?25hBuilding wheels for collected packages: kaggle\n",
      "  Building wheel for kaggle (setup.py) ... \u001b[?25ldone\n",
      "\u001b[?25h  Created wheel for kaggle: filename=kaggle-1.5.12-py3-none-any.whl size=73053 sha256=d55ad445089a03c816c2d9671176154c9baa73de9cf2c07b99436552122e70f6\n",
      "  Stored in directory: /Users/anmol_gorakshakar/Library/Caches/pip/wheels/29/da/11/144cc25aebdaeb4931b231e25fd34b394e6a5725cbb2f50106\n",
      "Successfully built kaggle\n",
      "Installing collected packages: text-unidecode, python-slugify, kaggle\n",
      "Successfully installed kaggle-1.5.12 python-slugify-5.0.2 text-unidecode-1.3\n",
      "Note: you may need to restart the kernel to use updated packages.\n"
     ]
    }
   ],
   "source": [
    "pip install kaggle"
   ]
  },
  {
   "cell_type": "code",
   "execution_count": 136,
   "metadata": {},
   "outputs": [],
   "source": [
    "downlaod_folder = '/Users/anmol_gorakshakar/python/machine_learning/'"
   ]
  },
  {
   "cell_type": "code",
   "execution_count": 137,
   "metadata": {},
   "outputs": [],
   "source": [
    "import pandas as pd\n",
    "dataset = pd.read_csv(f'{downlaod_folder}/heart.csv')"
   ]
  },
  {
   "cell_type": "code",
   "execution_count": 138,
   "metadata": {},
   "outputs": [
    {
     "data": {
      "text/html": [
       "<div>\n",
       "<style scoped>\n",
       "    .dataframe tbody tr th:only-of-type {\n",
       "        vertical-align: middle;\n",
       "    }\n",
       "\n",
       "    .dataframe tbody tr th {\n",
       "        vertical-align: top;\n",
       "    }\n",
       "\n",
       "    .dataframe thead th {\n",
       "        text-align: right;\n",
       "    }\n",
       "</style>\n",
       "<table border=\"1\" class=\"dataframe\">\n",
       "  <thead>\n",
       "    <tr style=\"text-align: right;\">\n",
       "      <th></th>\n",
       "      <th>age</th>\n",
       "      <th>sex</th>\n",
       "      <th>cp</th>\n",
       "      <th>trestbps</th>\n",
       "      <th>chol</th>\n",
       "      <th>fbs</th>\n",
       "      <th>restecg</th>\n",
       "      <th>thalach</th>\n",
       "      <th>exang</th>\n",
       "      <th>oldpeak</th>\n",
       "      <th>slope</th>\n",
       "      <th>ca</th>\n",
       "      <th>thal</th>\n",
       "      <th>target</th>\n",
       "    </tr>\n",
       "  </thead>\n",
       "  <tbody>\n",
       "    <tr>\n",
       "      <th>73</th>\n",
       "      <td>51</td>\n",
       "      <td>1</td>\n",
       "      <td>0</td>\n",
       "      <td>140</td>\n",
       "      <td>261</td>\n",
       "      <td>0</td>\n",
       "      <td>0</td>\n",
       "      <td>186</td>\n",
       "      <td>1</td>\n",
       "      <td>0.0</td>\n",
       "      <td>2</td>\n",
       "      <td>0</td>\n",
       "      <td>2</td>\n",
       "      <td>1</td>\n",
       "    </tr>\n",
       "  </tbody>\n",
       "</table>\n",
       "</div>"
      ],
      "text/plain": [
       "    age  sex  cp  trestbps  chol  fbs  restecg  thalach  exang  oldpeak  \\\n",
       "73   51    1   0       140   261    0        0      186      1      0.0   \n",
       "\n",
       "    slope  ca  thal  target  \n",
       "73      2   0     2       1  "
      ]
     },
     "execution_count": 138,
     "metadata": {},
     "output_type": "execute_result"
    }
   ],
   "source": [
    "dataset.sample()"
   ]
  },
  {
   "cell_type": "code",
   "execution_count": null,
   "metadata": {},
   "outputs": [],
   "source": []
  },
  {
   "cell_type": "code",
   "execution_count": 5,
   "metadata": {},
   "outputs": [],
   "source": [
    "from sklearn.model_selection import train_test_split\n",
    "import numpy as np"
   ]
  },
  {
   "cell_type": "code",
   "execution_count": 6,
   "metadata": {},
   "outputs": [],
   "source": [
    "X_train, X_test = train_test_split(dataset, \n",
    "                                   stratify=dataset.target, \n",
    "                                   random_state=121, \n",
    "                                   test_size = 0.2, \n",
    "                                   shuffle=True)"
   ]
  },
  {
   "cell_type": "code",
   "execution_count": 7,
   "metadata": {},
   "outputs": [
    {
     "data": {
      "text/plain": [
       "((242, 14), (61, 14))"
      ]
     },
     "execution_count": 7,
     "metadata": {},
     "output_type": "execute_result"
    }
   ],
   "source": [
    "X_train.shape, X_test.shape"
   ]
  },
  {
   "cell_type": "code",
   "execution_count": 12,
   "metadata": {},
   "outputs": [],
   "source": [
    "X_test_array, X_test_label = X_test[[*X_test][:-1]].to_numpy(), X_test[[*X_test][-1]].to_numpy()\n",
    "X_train_array, X_train_label = X_train[[*X_train][:-1]].to_numpy(), X_train[[*X_train][-1]].to_numpy()"
   ]
  },
  {
   "cell_type": "code",
   "execution_count": 33,
   "metadata": {},
   "outputs": [],
   "source": [
    "from keras.layers import LSTM, Dense, Dropout, Activation, Flatten\n",
    "from keras import Sequential"
   ]
  },
  {
   "cell_type": "code",
   "execution_count": 23,
   "metadata": {},
   "outputs": [],
   "source": [
    "X_test_array = np.reshape(X_test_array, (X_test_array.shape[0], 1, X_test_array.shape[1]))\n",
    "X_train_array = np.reshape(X_train_array, (X_train_array.shape[0], 1, X_train_array.shape[1]))"
   ]
  },
  {
   "cell_type": "code",
   "execution_count": 85,
   "metadata": {},
   "outputs": [],
   "source": [
    "import tensorflow as tf"
   ]
  },
  {
   "cell_type": "code",
   "execution_count": 102,
   "metadata": {},
   "outputs": [
    {
     "name": "stdout",
     "output_type": "stream",
     "text": [
      "Epoch 1/100\n",
      "28/28 [==============================] - 2s 16ms/step - loss: 0.6897 - accuracy: 0.5660 - val_loss: 0.6951 - val_accuracy: 0.4400\n",
      "Epoch 2/100\n",
      "28/28 [==============================] - 0s 3ms/step - loss: 0.6868 - accuracy: 0.5196 - val_loss: 0.6769 - val_accuracy: 0.5600\n",
      "Epoch 3/100\n",
      "28/28 [==============================] - 0s 3ms/step - loss: 0.6738 - accuracy: 0.6041 - val_loss: 0.6914 - val_accuracy: 0.5600\n",
      "Epoch 4/100\n",
      "28/28 [==============================] - 0s 3ms/step - loss: 0.6827 - accuracy: 0.6112 - val_loss: 0.6719 - val_accuracy: 0.5600\n",
      "Epoch 5/100\n",
      "28/28 [==============================] - 0s 3ms/step - loss: 0.6836 - accuracy: 0.5295 - val_loss: 0.6820 - val_accuracy: 0.5600\n",
      "Epoch 6/100\n",
      "28/28 [==============================] - 0s 3ms/step - loss: 0.6771 - accuracy: 0.6085 - val_loss: 0.6801 - val_accuracy: 0.5600\n",
      "Epoch 7/100\n",
      "28/28 [==============================] - 0s 3ms/step - loss: 0.6873 - accuracy: 0.5908 - val_loss: 0.7162 - val_accuracy: 0.4400\n",
      "Epoch 8/100\n",
      "28/28 [==============================] - 0s 3ms/step - loss: 0.6883 - accuracy: 0.5267 - val_loss: 0.6833 - val_accuracy: 0.5600\n",
      "Epoch 00008: early stopping\n"
     ]
    }
   ],
   "source": [
    "model = Sequential()\n",
    "model.add(Dense(10, activation='relu', input_shape=(X_train_array.shape[1:])))\n",
    "model.add(LSTM(units=50, return_sequences=True, activation='relu'))\n",
    "model.add(LSTM(units=100, return_sequences=True, activation='relu'))\n",
    "model.add(LSTM(units=200, return_sequences=True, activation='relu'))\n",
    "model.add(Dense(10, activation='relu'))\n",
    "model.add(Flatten())\n",
    "model.add(Dropout(0.2))\n",
    "model.add(Dense(1, activation='sigmoid'))\n",
    "model.compile(optimizer=\"sgd\", loss=\"binary_crossentropy\", metrics=[\"accuracy\"])\n",
    "cb=tf.keras.callbacks.EarlyStopping(monitor='accuracy', patience=5, verbose=1)\n",
    "hst = model.fit(tf.cast(X_train_array,tf.float32), tf.cast(X_train.target, tf.int8), \n",
    "                 epochs=100,\n",
    "                 batch_size=8, \n",
    "                 callbacks=cb, \n",
    "#                  shuffle=True, \n",
    "                 validation_split=0.1, \n",
    "                )"
   ]
  },
  {
   "cell_type": "code",
   "execution_count": 101,
   "metadata": {},
   "outputs": [
    {
     "data": {
      "image/png": "[encoded data removed]",
      "text/plain": [
       "<Figure size 1224x504 with 2 Axes>"
      ]
     },
     "metadata": {
      "needs_background": "light"
     },
     "output_type": "display_data"
    }
   ],
   "source": [
    "# round3\n",
    "epochs = len(hst.epoch)\n",
    "accuracy = hst.history['accuracy']\n",
    "loss = hst.history['loss']\n",
    "val_loss = hst.history['val_loss']\n",
    "val_accuracy = hst.history['val_accuracy']\n",
    "\n",
    "plt.figure(figsize=(17, 7))\n",
    "plt.subplot(2, 2, 1)\n",
    "plt.plot(range(epochs), accuracy, label='Training Accuracy')\n",
    "plt.plot(range(epochs), val_accuracy, label='Validation Accuracy')\n",
    "plt.legend(loc='lower right')\n",
    "plt.title('Accuracy : Training vs. Validation ')\n",
    "\n",
    "plt.subplot(2, 2, 2)\n",
    "plt.plot(range(epochs), loss, label='Training Loss')\n",
    "plt.plot(range(epochs), val_loss, label='Validation Loss')\n",
    "plt.title('Loss : Training vs. Validation ')\n",
    "plt.legend(loc='upper right')\n",
    "plt.show()"
   ]
  },
  {
   "cell_type": "markdown",
   "metadata": {},
   "source": [
    "# Bad Example for using Neural Net"
   ]
  },
  {
   "cell_type": "code",
   "execution_count": 118,
   "metadata": {},
   "outputs": [],
   "source": [
    "import numpy as np\n",
    "import pandas as pd\n",
    "import matplotlib.pyplot as plt\n",
    "import seaborn as sns #for plotting\n",
    "from sklearn.ensemble import RandomForestClassifier #for the model\n",
    "from sklearn.tree import DecisionTreeClassifier\n",
    "from sklearn.tree import export_graphviz #plot tree\n",
    "from sklearn.metrics import roc_curve, auc #for model evaluation\n",
    "from sklearn.metrics import classification_report #for model evaluation\n",
    "from sklearn.metrics import confusion_matrix #for model evaluation\n",
    "from sklearn.model_selection import train_test_split #for data splitting\n",
    "import eli5 #for purmutation importance\n",
    "from eli5.sklearn import PermutationImportance\n",
    "import shap #for SHAP values\n",
    "from pdpbox import pdp, info_plots #for partial plots\n",
    "np.random.seed(123) #ensure reproducibility\n",
    "\n",
    "pd.options.mode.chained_assignment = None  #hide any pandas warnings"
   ]
  },
  {
   "cell_type": "code",
   "execution_count": 140,
   "metadata": {},
   "outputs": [
    {
     "name": "stdout",
     "output_type": "stream",
     "text": [
      "<class 'pandas.core.frame.DataFrame'>\n",
      "RangeIndex: 303 entries, 0 to 302\n",
      "Data columns (total 14 columns):\n",
      " #   Column    Non-Null Count  Dtype  \n",
      "---  ------    --------------  -----  \n",
      " 0   age       303 non-null    int64  \n",
      " 1   sex       303 non-null    int64  \n",
      " 2   cp        303 non-null    int64  \n",
      " 3   trestbps  303 non-null    int64  \n",
      " 4   chol      303 non-null    int64  \n",
      " 5   fbs       303 non-null    int64  \n",
      " 6   restecg   303 non-null    int64  \n",
      " 7   thalach   303 non-null    int64  \n",
      " 8   exang     303 non-null    int64  \n",
      " 9   oldpeak   303 non-null    float64\n",
      " 10  slope     303 non-null    int64  \n",
      " 11  ca        303 non-null    int64  \n",
      " 12  thal      303 non-null    int64  \n",
      " 13  target    303 non-null    int64  \n",
      "dtypes: float64(1), int64(13)\n",
      "memory usage: 33.3 KB\n"
     ]
    }
   ],
   "source": [
    "dataset.info()"
   ]
  },
  {
   "cell_type": "code",
   "execution_count": 141,
   "metadata": {},
   "outputs": [],
   "source": [
    "dataset.columns = ['age', 'sex', 'chest_pain_type', 'resting_blood_pressure', 'cholesterol', 'fasting_blood_sugar', 'rest_ecg', 'max_heart_rate_achieved',\n",
    "       'exercise_induced_angina', 'st_depression', 'st_slope', 'num_major_vessels', 'thalassemia', 'target']"
   ]
  },
  {
   "cell_type": "code",
   "execution_count": 142,
   "metadata": {},
   "outputs": [
    {
     "name": "stdout",
     "output_type": "stream",
     "text": [
      "sex 1,0\n",
      "chest_pain_type 3,2,1,0\n",
      "fasting_blood_sugar 1,0\n",
      "rest_ecg 0,1,2\n",
      "exercise_induced_angina 0,1\n",
      "st_slope 0,2,1\n",
      "num_major_vessels 0,2,1,3,4\n",
      "thalassemia 1,2,3,0\n",
      "target 1,0\n"
     ]
    }
   ],
   "source": [
    "for i in dataset.columns:\n",
    "    if len(dataset[i].unique())<10:\n",
    "        print(i, ','.join([f\"{j}\" for j in dataset[i].unique()]))"
   ]
  },
  {
   "cell_type": "code",
   "execution_count": null,
   "metadata": {},
   "outputs": [],
   "source": [
    "object_dict = {}\n",
    "object_dict['sex'] = {1:'male', 0:'female'}\n",
    "object_dict['chest_pain_type'] = {0:'no_pain'\n",
    "                                  1:'typical_angina',\n",
    "                                  2:'atypical_angina',\n",
    "                                  3:'non_anginal_pain',\n",
    "                                  4:'asymptomatic'\n",
    "                                 }\n",
    "object_dict['fasting_blood_sugar'] = {0:'< 120 mg/dl', 1:'> 120 mg/dl'}\n",
    "object_dict['rest_ecg'] = {0:'normal',\n",
    "                           1:'ST-T_wave_abnormality',\n",
    "                           2:'left_ventricular_hypertrophy',\n",
    "                          }"
   ]
  },
  {
   "cell_type": "code",
   "execution_count": 130,
   "metadata": {},
   "outputs": [
    {
     "data": {
      "text/plain": [
       "True"
      ]
     },
     "execution_count": 130,
     "metadata": {},
     "output_type": "execute_result"
    }
   ],
   "source": []
  },
  {
   "cell_type": "code",
   "execution_count": null,
   "metadata": {},
   "outputs": [],
   "source": []
  },
  {
   "cell_type": "code",
   "execution_count": null,
   "metadata": {},
   "outputs": [],
   "source": []
  },
  {
   "cell_type": "code",
   "execution_count": null,
   "metadata": {},
   "outputs": [],
   "source": []
  },
  {
   "cell_type": "code",
   "execution_count": null,
   "metadata": {},
   "outputs": [],
   "source": []
  },
  {
   "cell_type": "code",
   "execution_count": null,
   "metadata": {},
   "outputs": [],
   "source": []
  },
  {
   "cell_type": "code",
   "execution_count": null,
   "metadata": {},
   "outputs": [],
   "source": []
  },
  {
   "cell_type": "code",
   "execution_count": null,
   "metadata": {},
   "outputs": [],
   "source": []
  },
  {
   "cell_type": "code",
   "execution_count": null,
   "metadata": {},
   "outputs": [],
   "source": []
  },
  {
   "cell_type": "code",
   "execution_count": 126,
   "metadata": {},
   "outputs": [],
   "source": [
    "dataset['sex'][dataset['sex'] == 0] = 'female'\n",
    "dataset['sex'][dataset['sex'] == 1] = 'male'\n",
    "\n",
    "dataset['chest_pain_type'][dataset['chest_pain_type'] == 1] = 'typical angina'\n",
    "dataset['chest_pain_type'][dataset['chest_pain_type'] == 2] = 'atypical angina'\n",
    "dataset['chest_pain_type'][dataset['chest_pain_type'] == 3] = 'non-anginal pain'\n",
    "dataset['chest_pain_type'][dataset['chest_pain_type'] == 4] = 'asymptomatic'\n",
    "\n",
    "dataset['fasting_blood_sugar'][dataset['fasting_blood_sugar'] == 0] = 'lower than 120mg/ml'\n",
    "dataset['fasting_blood_sugar'][dataset['fasting_blood_sugar'] == 1] = 'greater than 120mg/ml'\n",
    "\n",
    "dataset['rest_ecg'][dataset['rest_ecg'] == 0] = 'normal'\n",
    "dataset['rest_ecg'][dataset['rest_ecg'] == 1] = 'ST-T wave abnormality'\n",
    "dataset['rest_ecg'][dataset['rest_ecg'] == 2] = 'left ventricular hypertrophy'\n",
    "\n",
    "dataset['exercise_induced_angina'][dataset['exercise_induced_angina'] == 0] = 'no'\n",
    "dataset['exercise_induced_angina'][dataset['exercise_induced_angina'] == 1] = 'yes'\n",
    "\n",
    "dataset['st_slope'][dataset['st_slope'] == 1] = 'upsloping'\n",
    "dataset['st_slope'][dataset['st_slope'] == 2] = 'flat'\n",
    "dataset['st_slope'][dataset['st_slope'] == 3] = 'downsloping'\n",
    "\n",
    "dataset['thalassemia'][dataset['thalassemia'] == 1] = 'normal'\n",
    "dataset['thalassemia'][dataset['thalassemia'] == 2] = 'fixed defect'\n",
    "dataset['thalassemia'][dataset['thalassemia'] == 3] = 'reversable defect'"
   ]
  },
  {
   "cell_type": "code",
   "execution_count": 128,
   "metadata": {},
   "outputs": [
    {
     "data": {
      "text/html": [
       "<div>\n",
       "<style scoped>\n",
       "    .dataframe tbody tr th:only-of-type {\n",
       "        vertical-align: middle;\n",
       "    }\n",
       "\n",
       "    .dataframe tbody tr th {\n",
       "        vertical-align: top;\n",
       "    }\n",
       "\n",
       "    .dataframe thead th {\n",
       "        text-align: right;\n",
       "    }\n",
       "</style>\n",
       "<table border=\"1\" class=\"dataframe\">\n",
       "  <thead>\n",
       "    <tr style=\"text-align: right;\">\n",
       "      <th></th>\n",
       "      <th>age</th>\n",
       "      <th>sex</th>\n",
       "      <th>chest_pain_type</th>\n",
       "      <th>resting_blood_pressure</th>\n",
       "      <th>cholesterol</th>\n",
       "      <th>fasting_blood_sugar</th>\n",
       "      <th>rest_ecg</th>\n",
       "      <th>max_heart_rate_achieved</th>\n",
       "      <th>exercise_induced_angina</th>\n",
       "      <th>st_depression</th>\n",
       "      <th>st_slope</th>\n",
       "      <th>num_major_vessels</th>\n",
       "      <th>thalassemia</th>\n",
       "      <th>target</th>\n",
       "    </tr>\n",
       "  </thead>\n",
       "  <tbody>\n",
       "    <tr>\n",
       "      <th>56</th>\n",
       "      <td>48</td>\n",
       "      <td>male</td>\n",
       "      <td>0</td>\n",
       "      <td>122</td>\n",
       "      <td>222</td>\n",
       "      <td>lower than 120mg/ml</td>\n",
       "      <td>normal</td>\n",
       "      <td>186</td>\n",
       "      <td>no</td>\n",
       "      <td>0.0</td>\n",
       "      <td>flat</td>\n",
       "      <td>0</td>\n",
       "      <td>fixed defect</td>\n",
       "      <td>1</td>\n",
       "    </tr>\n",
       "    <tr>\n",
       "      <th>282</th>\n",
       "      <td>59</td>\n",
       "      <td>male</td>\n",
       "      <td>atypical angina</td>\n",
       "      <td>126</td>\n",
       "      <td>218</td>\n",
       "      <td>greater than 120mg/ml</td>\n",
       "      <td>ST-T wave abnormality</td>\n",
       "      <td>134</td>\n",
       "      <td>no</td>\n",
       "      <td>2.2</td>\n",
       "      <td>upsloping</td>\n",
       "      <td>1</td>\n",
       "      <td>normal</td>\n",
       "      <td>0</td>\n",
       "    </tr>\n",
       "    <tr>\n",
       "      <th>272</th>\n",
       "      <td>67</td>\n",
       "      <td>male</td>\n",
       "      <td>0</td>\n",
       "      <td>120</td>\n",
       "      <td>237</td>\n",
       "      <td>lower than 120mg/ml</td>\n",
       "      <td>ST-T wave abnormality</td>\n",
       "      <td>71</td>\n",
       "      <td>no</td>\n",
       "      <td>1.0</td>\n",
       "      <td>upsloping</td>\n",
       "      <td>0</td>\n",
       "      <td>fixed defect</td>\n",
       "      <td>0</td>\n",
       "    </tr>\n",
       "    <tr>\n",
       "      <th>240</th>\n",
       "      <td>70</td>\n",
       "      <td>male</td>\n",
       "      <td>atypical angina</td>\n",
       "      <td>160</td>\n",
       "      <td>269</td>\n",
       "      <td>lower than 120mg/ml</td>\n",
       "      <td>ST-T wave abnormality</td>\n",
       "      <td>112</td>\n",
       "      <td>yes</td>\n",
       "      <td>2.9</td>\n",
       "      <td>upsloping</td>\n",
       "      <td>1</td>\n",
       "      <td>reversable defect</td>\n",
       "      <td>0</td>\n",
       "    </tr>\n",
       "    <tr>\n",
       "      <th>265</th>\n",
       "      <td>66</td>\n",
       "      <td>male</td>\n",
       "      <td>0</td>\n",
       "      <td>112</td>\n",
       "      <td>212</td>\n",
       "      <td>lower than 120mg/ml</td>\n",
       "      <td>normal</td>\n",
       "      <td>132</td>\n",
       "      <td>yes</td>\n",
       "      <td>0.1</td>\n",
       "      <td>flat</td>\n",
       "      <td>1</td>\n",
       "      <td>fixed defect</td>\n",
       "      <td>0</td>\n",
       "    </tr>\n",
       "    <tr>\n",
       "      <th>290</th>\n",
       "      <td>61</td>\n",
       "      <td>male</td>\n",
       "      <td>0</td>\n",
       "      <td>148</td>\n",
       "      <td>203</td>\n",
       "      <td>lower than 120mg/ml</td>\n",
       "      <td>ST-T wave abnormality</td>\n",
       "      <td>161</td>\n",
       "      <td>no</td>\n",
       "      <td>0.0</td>\n",
       "      <td>flat</td>\n",
       "      <td>1</td>\n",
       "      <td>reversable defect</td>\n",
       "      <td>0</td>\n",
       "    </tr>\n",
       "    <tr>\n",
       "      <th>209</th>\n",
       "      <td>59</td>\n",
       "      <td>male</td>\n",
       "      <td>0</td>\n",
       "      <td>140</td>\n",
       "      <td>177</td>\n",
       "      <td>lower than 120mg/ml</td>\n",
       "      <td>ST-T wave abnormality</td>\n",
       "      <td>162</td>\n",
       "      <td>yes</td>\n",
       "      <td>0.0</td>\n",
       "      <td>flat</td>\n",
       "      <td>1</td>\n",
       "      <td>reversable defect</td>\n",
       "      <td>0</td>\n",
       "    </tr>\n",
       "    <tr>\n",
       "      <th>215</th>\n",
       "      <td>43</td>\n",
       "      <td>female</td>\n",
       "      <td>0</td>\n",
       "      <td>132</td>\n",
       "      <td>341</td>\n",
       "      <td>greater than 120mg/ml</td>\n",
       "      <td>normal</td>\n",
       "      <td>136</td>\n",
       "      <td>yes</td>\n",
       "      <td>3.0</td>\n",
       "      <td>upsloping</td>\n",
       "      <td>0</td>\n",
       "      <td>reversable defect</td>\n",
       "      <td>0</td>\n",
       "    </tr>\n",
       "    <tr>\n",
       "      <th>54</th>\n",
       "      <td>63</td>\n",
       "      <td>female</td>\n",
       "      <td>atypical angina</td>\n",
       "      <td>135</td>\n",
       "      <td>252</td>\n",
       "      <td>lower than 120mg/ml</td>\n",
       "      <td>normal</td>\n",
       "      <td>172</td>\n",
       "      <td>no</td>\n",
       "      <td>0.0</td>\n",
       "      <td>flat</td>\n",
       "      <td>0</td>\n",
       "      <td>fixed defect</td>\n",
       "      <td>1</td>\n",
       "    </tr>\n",
       "    <tr>\n",
       "      <th>173</th>\n",
       "      <td>58</td>\n",
       "      <td>male</td>\n",
       "      <td>atypical angina</td>\n",
       "      <td>132</td>\n",
       "      <td>224</td>\n",
       "      <td>lower than 120mg/ml</td>\n",
       "      <td>normal</td>\n",
       "      <td>173</td>\n",
       "      <td>no</td>\n",
       "      <td>3.2</td>\n",
       "      <td>flat</td>\n",
       "      <td>2</td>\n",
       "      <td>reversable defect</td>\n",
       "      <td>0</td>\n",
       "    </tr>\n",
       "  </tbody>\n",
       "</table>\n",
       "</div>"
      ],
      "text/plain": [
       "     age     sex  chest_pain_type  resting_blood_pressure  cholesterol  \\\n",
       "56    48    male                0                     122          222   \n",
       "282   59    male  atypical angina                     126          218   \n",
       "272   67    male                0                     120          237   \n",
       "240   70    male  atypical angina                     160          269   \n",
       "265   66    male                0                     112          212   \n",
       "290   61    male                0                     148          203   \n",
       "209   59    male                0                     140          177   \n",
       "215   43  female                0                     132          341   \n",
       "54    63  female  atypical angina                     135          252   \n",
       "173   58    male  atypical angina                     132          224   \n",
       "\n",
       "       fasting_blood_sugar               rest_ecg  max_heart_rate_achieved  \\\n",
       "56     lower than 120mg/ml                 normal                      186   \n",
       "282  greater than 120mg/ml  ST-T wave abnormality                      134   \n",
       "272    lower than 120mg/ml  ST-T wave abnormality                       71   \n",
       "240    lower than 120mg/ml  ST-T wave abnormality                      112   \n",
       "265    lower than 120mg/ml                 normal                      132   \n",
       "290    lower than 120mg/ml  ST-T wave abnormality                      161   \n",
       "209    lower than 120mg/ml  ST-T wave abnormality                      162   \n",
       "215  greater than 120mg/ml                 normal                      136   \n",
       "54     lower than 120mg/ml                 normal                      172   \n",
       "173    lower than 120mg/ml                 normal                      173   \n",
       "\n",
       "    exercise_induced_angina  st_depression   st_slope  num_major_vessels  \\\n",
       "56                       no            0.0       flat                  0   \n",
       "282                      no            2.2  upsloping                  1   \n",
       "272                      no            1.0  upsloping                  0   \n",
       "240                     yes            2.9  upsloping                  1   \n",
       "265                     yes            0.1       flat                  1   \n",
       "290                      no            0.0       flat                  1   \n",
       "209                     yes            0.0       flat                  1   \n",
       "215                     yes            3.0  upsloping                  0   \n",
       "54                       no            0.0       flat                  0   \n",
       "173                      no            3.2       flat                  2   \n",
       "\n",
       "           thalassemia  target  \n",
       "56        fixed defect       1  \n",
       "282             normal       0  \n",
       "272       fixed defect       0  \n",
       "240  reversable defect       0  \n",
       "265       fixed defect       0  \n",
       "290  reversable defect       0  \n",
       "209  reversable defect       0  \n",
       "215  reversable defect       0  \n",
       "54        fixed defect       1  \n",
       "173  reversable defect       0  "
      ]
     },
     "execution_count": 128,
     "metadata": {},
     "output_type": "execute_result"
    }
   ],
   "source": [
    "dataset.sample(n=10)"
   ]
  },
  {
   "cell_type": "code",
   "execution_count": 127,
   "metadata": {},
   "outputs": [
    {
     "name": "stdout",
     "output_type": "stream",
     "text": [
      "<class 'pandas.core.frame.DataFrame'>\n",
      "RangeIndex: 303 entries, 0 to 302\n",
      "Data columns (total 14 columns):\n",
      " #   Column                   Non-Null Count  Dtype  \n",
      "---  ------                   --------------  -----  \n",
      " 0   age                      303 non-null    int64  \n",
      " 1   sex                      303 non-null    object \n",
      " 2   chest_pain_type          303 non-null    object \n",
      " 3   resting_blood_pressure   303 non-null    int64  \n",
      " 4   cholesterol              303 non-null    int64  \n",
      " 5   fasting_blood_sugar      303 non-null    object \n",
      " 6   rest_ecg                 303 non-null    object \n",
      " 7   max_heart_rate_achieved  303 non-null    int64  \n",
      " 8   exercise_induced_angina  303 non-null    object \n",
      " 9   st_depression            303 non-null    float64\n",
      " 10  st_slope                 303 non-null    object \n",
      " 11  num_major_vessels        303 non-null    int64  \n",
      " 12  thalassemia              303 non-null    object \n",
      " 13  target                   303 non-null    int64  \n",
      "dtypes: float64(1), int64(6), object(7)\n",
      "memory usage: 33.3+ KB\n"
     ]
    }
   ],
   "source": [
    "dataset.info()"
   ]
  },
  {
   "cell_type": "code",
   "execution_count": null,
   "metadata": {},
   "outputs": [],
   "source": []
  }
 ],
 "metadata": {
  "kernelspec": {
   "display_name": "Python 3",
   "language": "python",
   "name": "python3"
  },
  "language_info": {
   "codemirror_mode": {
    "name": "ipython",
    "version": 3
   },
   "file_extension": ".py",
   "mimetype": "text/x-python",
   "name": "python",
   "nbconvert_exporter": "python",
   "pygments_lexer": "ipython3",
   "version": "3.8.3"
  }
 },
 "nbformat": 4,
 "nbformat_minor": 4
}
