{
 "cells": [
  {
   "cell_type": "code",
   "execution_count": 1,
   "metadata": {},
   "outputs": [],
   "source": [
    "import math \n",
    "import pandas as pd \n",
    "import seaborn as sns \n",
    "import tensorflow as tf\n",
    "import matplotlib.pyplot as plt\n",
    "from tensorflow.keras.layers import Dense, Dropout, Activation\n",
    "from tensorflow.keras import Sequential\n",
    "from scipy import stats as ss\n",
    "from tensorflow.keras.layers.experimental import preprocessing as pp\n",
    "import numpy as np\n",
    "import kaggle\n",
    "from sklearn.model_selection import train_test_split"
   ]
  },
  {
   "cell_type": "markdown",
   "metadata": {},
   "source": [
    "# Kaggle URL\n",
    "https://www.kaggle.com/"
   ]
  },
  {
   "cell_type": "code",
   "execution_count": 2,
   "metadata": {},
   "outputs": [],
   "source": [
    "data = pd.read_csv('../kaggle_datasets/heart_2020_cleaned.csv')"
   ]
  },
  {
   "cell_type": "code",
   "execution_count": 3,
   "metadata": {},
   "outputs": [
    {
     "data": {
      "text/plain": [
       "27373"
      ]
     },
     "execution_count": 3,
     "metadata": {},
     "output_type": "execute_result"
    }
   ],
   "source": [
    "data.HeartDisease.value_counts().loc['Yes']"
   ]
  },
  {
   "cell_type": "code",
   "execution_count": 4,
   "metadata": {},
   "outputs": [],
   "source": [
    "no_data = data[data.HeartDisease=='No'].sample(data.HeartDisease.value_counts().loc['Yes'], random_state=10)\n",
    "yes_data = data[data.HeartDisease=='Yes']\n",
    "data = pd.concat([no_data, yes_data])"
   ]
  },
  {
   "cell_type": "code",
   "execution_count": 5,
   "metadata": {},
   "outputs": [],
   "source": [
    "from sklearn.utils import shuffle\n",
    "data = shuffle(data)"
   ]
  },
  {
   "cell_type": "code",
   "execution_count": 6,
   "metadata": {},
   "outputs": [],
   "source": [
    "label = data.pop('HeartDisease')\n",
    "label = label.replace({'No':0, 'Yes':1}).astype('int32')"
   ]
  },
  {
   "cell_type": "code",
   "execution_count": 7,
   "metadata": {},
   "outputs": [],
   "source": [
    "categorical_cols = ['Smoking', \n",
    "                    'AlcoholDrinking', \n",
    "                    'Stroke',\n",
    "                    'PhysicalHealth', # check description\n",
    "                    'MentalHealth', # check description\n",
    "                    'DiffWalking', \n",
    "                    'Sex', \n",
    "                    'AgeCategory',\n",
    "                    'Race', \n",
    "                    'Diabetic', \n",
    "                    'PhysicalActivity', \n",
    "                    'GenHealth', \n",
    "                    'Asthma', \n",
    "                    'KidneyDisease', \n",
    "                    'SkinCancer']"
   ]
  },
  {
   "cell_type": "code",
   "execution_count": 8,
   "metadata": {},
   "outputs": [],
   "source": [
    "numerical_cols = [i for i in data.columns if i not in categorical_cols]"
   ]
  },
  {
   "cell_type": "code",
   "execution_count": 9,
   "metadata": {},
   "outputs": [],
   "source": [
    "from collections import Counter\n",
    "def conditional_entropy(x,y):\n",
    "    y_counter = Counter(y)\n",
    "    xy_counter = Counter(list(zip(x,y)))\n",
    "    total_occurances = sum(y_counter.values())\n",
    "    \n",
    "    entropy = 0.0\n",
    "    for xy in xy_counter.keys():\n",
    "        p_y = y_counter[xy[1]]/total_occurances\n",
    "        p_xy = xy_counter[xy]/total_occurances\n",
    "        entropy += p_xy * math.log(p_y/ p_xy, math.e)\n",
    "    return entropy"
   ]
  },
  {
   "cell_type": "code",
   "execution_count": 10,
   "metadata": {},
   "outputs": [],
   "source": [
    "def theils_u(x,y):\n",
    "    # formula = (H(X)-H(X|Y))/H(X)\n",
    "    h_xy = conditional_entropy(x,y)\n",
    "    x_counter = Counter(x)\n",
    "    total_occurances = sum(x_counter.values())\n",
    "    p_x = list(map(lambda x: x/total_occurances, x_counter.values()))\n",
    "    h_x = ss.entropy(p_x)\n",
    "    \n",
    "    if h_x == 0:\n",
    "        coeff = 1\n",
    "    else: \n",
    "        coeff = (h_x - h_xy)/h_x\n",
    "    return coeff"
   ]
  },
  {
   "cell_type": "code",
   "execution_count": 11,
   "metadata": {},
   "outputs": [],
   "source": [
    "def data_cleanup(df):\n",
    "    '''\n",
    "    df: pandas dataframe\n",
    "    '''\n",
    "    if type(df)!=pd.core.frame.DataFrame:\n",
    "        raise ValueError('input is not a pandas dataframe')\n",
    "    working_df = df.copy()\n",
    "    cols = working_df.columns\n",
    "    converted_columns = {}\n",
    "    for col in cols:\n",
    "        if working_df[col].dtype == 'O':\n",
    "            unique_values = working_df[col].unique()\n",
    "            converted_values = {v:k for k,v in enumerate(unique_values)}\n",
    "            for value in unique_values:\n",
    "                working_df[col] = working_df[col].replace(value, converted_values[value])\n",
    "            converted_columns[col] = converted_values\n",
    "    return working_df, converted_columns"
   ]
  },
  {
   "cell_type": "code",
   "execution_count": 12,
   "metadata": {
    "scrolled": true
   },
   "outputs": [],
   "source": [
    "working_df, index = data_cleanup(data)"
   ]
  },
  {
   "cell_type": "code",
   "execution_count": 13,
   "metadata": {},
   "outputs": [
    {
     "name": "stdout",
     "output_type": "stream",
     "text": [
      "['Stroke', 'DiffWalking', 'Diabetic', 'GenHealth', 'KidneyDisease']\n"
     ]
    },
    {
     "data": {
      "text/plain": [
       "[('Stroke', 0.09456438843020078),\n",
       " ('DiffWalking', 0.07879816141422262),\n",
       " ('KidneyDisease', 0.06770803830165954),\n",
       " ('Diabetic', 0.055993038599269684),\n",
       " ('GenHealth', 0.054873599367601604),\n",
       " ('AgeCategory', 0.04493785864301034),\n",
       " ('Smoking', 0.02669830073941945),\n",
       " ('SkinCancer', 0.02633347738212963),\n",
       " ('PhysicalActivity', 0.022200304438007842),\n",
       " ('PhysicalHealth', 0.02125260029417571),\n",
       " ('Sex', 0.010420778239845939),\n",
       " ('AlcoholDrinking', 0.009525805809697517),\n",
       " ('Race', 0.006705251598493517),\n",
       " ('Asthma', 0.004781783698799134),\n",
       " ('MentalHealth', 0.0030829856050773596)]"
      ]
     },
     "execution_count": 13,
     "metadata": {},
     "output_type": "execute_result"
    }
   ],
   "source": [
    "d_cat = {}\n",
    "for header in categorical_cols:\n",
    "    d_cat[header]= theils_u(data[header], label)\n",
    "\n",
    "print([k for k,v in d_cat.items() if v>0.05])\n",
    "sorted(d_cat.items(), key=lambda v: v[1], reverse=True)"
   ]
  },
  {
   "cell_type": "code",
   "execution_count": 14,
   "metadata": {},
   "outputs": [
    {
     "data": {
      "text/plain": [
       "[('BMI', 0.08917608863174388), ('SleepTime', 0.01683205855584008)]"
      ]
     },
     "execution_count": 14,
     "metadata": {},
     "output_type": "execute_result"
    }
   ],
   "source": [
    "d_num = {}\n",
    "for header in numerical_cols:\n",
    "    d_num[header] = ss.pointbiserialr(data[header].astype('int32'), label).correlation\n",
    "\n",
    "sorted(d_num.items(), key=lambda v: v[1], reverse=True)"
   ]
  },
  {
   "cell_type": "code",
   "execution_count": 15,
   "metadata": {},
   "outputs": [],
   "source": [
    "filtered_cat_cols = [k for k,v in d_cat.items() if v>0.05]\n",
    "filtered_num_cols = [k for k,v in d_num.items() if v>0.05]"
   ]
  },
  {
   "cell_type": "code",
   "execution_count": 16,
   "metadata": {},
   "outputs": [],
   "source": [
    "def get_categorical_encoding_layer(feature, dataset, dtype, max_tokens):\n",
    "    index = pp.IntegerLookup(max_values=max_tokens, oov_value=-2) # integer lookup initialization \n",
    "    feature_ds = dataset.map(lambda x,y: x[feature]) # slice dataset to get the feature column\n",
    "    index.adapt(feature_ds) # analyze the feature column to generate a vocabulary \n",
    "    encoder = pp.CategoryEncoding(max_tokens=len(index.get_vocabulary())) # generate an encoding layer \n",
    "    return lambda feature: encoder(index(feature)) #returns a encoder which takes feature as argument\n",
    "\n",
    "def get_normalization_layer(feature, dataset):\n",
    "    normalizer = pp.Normalization(axis=None)\n",
    "    feature_ds = dataset.map(lambda x,y: x[feature])\n",
    "    normalizer.adapt(feature_ds)\n",
    "    return normalizer"
   ]
  },
  {
   "cell_type": "code",
   "execution_count": 17,
   "metadata": {},
   "outputs": [],
   "source": [
    "def dataset_from_dataframe(df, label, batch_size=32):\n",
    "    ds = df.copy()\n",
    "    ds = tf.data.Dataset.from_tensor_slices((dict(ds), label))\n",
    "    ds = ds.batch(batch_size)\n",
    "    ds = ds.prefetch(batch_size)\n",
    "    return ds"
   ]
  },
  {
   "cell_type": "code",
   "execution_count": 18,
   "metadata": {},
   "outputs": [],
   "source": [
    "ds = working_df[filtered_cat_cols+filtered_num_cols]"
   ]
  },
  {
   "cell_type": "code",
   "execution_count": 19,
   "metadata": {},
   "outputs": [],
   "source": [
    "train, test, train_label, test_label = train_test_split(ds, label, test_size=0.2)\n",
    "train, val, train_label, val_label = train_test_split(train, train_label, test_size=0.2)\n",
    "\n",
    "train_ds = dataset_from_dataframe(train, train_label)\n",
    "val_ds = dataset_from_dataframe(val, val_label)\n",
    "test_ds = dataset_from_dataframe(test, test_label)"
   ]
  },
  {
   "cell_type": "code",
   "execution_count": 20,
   "metadata": {},
   "outputs": [],
   "source": [
    "all_inputs = []\n",
    "encoded_inputs = []\n",
    "\n",
    "for header in filtered_cat_cols:\n",
    "    categorical_col = tf.keras.Input(shape=(1,), name=header, dtype='int32')\n",
    "    encoding_layer = get_categorical_encoding_layer(feature=header, \n",
    "                                              dataset=train_ds,\n",
    "                                              dtype='int32',\n",
    "                                              max_tokens=5 #random_number do optimize\n",
    "                                             )\n",
    "    encoded_categorical_col = encoding_layer(categorical_col)\n",
    "    all_inputs.append(categorical_col)\n",
    "    encoded_inputs.append(encoded_categorical_col)\n",
    "    \n",
    "for header in filtered_num_cols:\n",
    "    numerical_col = tf.keras.Input(shape=(1,), name=header)\n",
    "    normalization_layer = get_normalization_layer(feature=header, \n",
    "                                                  dataset=train_ds\n",
    "                                                 )\n",
    "    normalized_numerical_layer = normalization_layer(numerical_col)\n",
    "    all_inputs.append(numerical_col)\n",
    "    encoded_inputs.append(normalized_numerical_layer)\n",
    "    "
   ]
  },
  {
   "cell_type": "code",
   "execution_count": 21,
   "metadata": {},
   "outputs": [],
   "source": [
    "all_features = tf.keras.layers.concatenate(encoded_inputs)\n",
    "\n",
    "x = tf.keras.layers.Dense(32, activation=\"relu\")(all_features)\n",
    "x = tf.keras.layers.Dropout(0.5)(x)\n",
    "output = tf.keras.layers.Dense(1)(x)\n",
    "\n",
    "model = tf.keras.Model(all_inputs, output)\n",
    "model.compile(optimizer='adam',\n",
    "              loss=tf.keras.losses.BinaryCrossentropy(from_logits=True),\n",
    "              metrics=[\"accuracy\"])"
   ]
  },
  {
   "cell_type": "code",
   "execution_count": 22,
   "metadata": {},
   "outputs": [
    {
     "data": {
      "image/png": "[encoded data removed]",
      "text/plain": [
       "<IPython.core.display.Image object>"
      ]
     },
     "execution_count": 22,
     "metadata": {},
     "output_type": "execute_result"
    }
   ],
   "source": [
    "tf.keras.utils.plot_model(model)"
   ]
  },
  {
   "cell_type": "code",
   "execution_count": 23,
   "metadata": {
    "scrolled": false
   },
   "outputs": [
    {
     "name": "stdout",
     "output_type": "stream",
     "text": [
      "Epoch 1/20\n",
      "1095/1095 [==============================] - 3s 2ms/step - loss: 0.6276 - accuracy: 0.6166 - val_loss: 0.5740 - val_accuracy: 0.6672\n",
      "Epoch 2/20\n",
      "1095/1095 [==============================] - 1s 1ms/step - loss: 0.5829 - accuracy: 0.6811 - val_loss: 0.5717 - val_accuracy: 0.6710\n",
      "Epoch 3/20\n",
      "1095/1095 [==============================] - 1s 1ms/step - loss: 0.5812 - accuracy: 0.6765 - val_loss: 0.5705 - val_accuracy: 0.6734\n",
      "Epoch 4/20\n",
      "1095/1095 [==============================] - 1s 1ms/step - loss: 0.5785 - accuracy: 0.6778 - val_loss: 0.5700 - val_accuracy: 0.6710\n",
      "Epoch 5/20\n",
      "1095/1095 [==============================] - 1s 1ms/step - loss: 0.5773 - accuracy: 0.6791 - val_loss: 0.5696 - val_accuracy: 0.6733\n",
      "Epoch 6/20\n",
      "1095/1095 [==============================] - 1s 1ms/step - loss: 0.5784 - accuracy: 0.6768 - val_loss: 0.5697 - val_accuracy: 0.6751\n",
      "Epoch 7/20\n",
      "1095/1095 [==============================] - 1s 1ms/step - loss: 0.5777 - accuracy: 0.6766 - val_loss: 0.5697 - val_accuracy: 0.6726\n",
      "Epoch 8/20\n",
      "1095/1095 [==============================] - 1s 1ms/step - loss: 0.5780 - accuracy: 0.6778 - val_loss: 0.5698 - val_accuracy: 0.6719\n",
      "Epoch 9/20\n",
      "1095/1095 [==============================] - 1s 1ms/step - loss: 0.5774 - accuracy: 0.6757 - val_loss: 0.5701 - val_accuracy: 0.6757\n",
      "Epoch 10/20\n",
      "1095/1095 [==============================] - 1s 1ms/step - loss: 0.5784 - accuracy: 0.6765 - val_loss: 0.5698 - val_accuracy: 0.6728\n",
      "Epoch 11/20\n",
      "1095/1095 [==============================] - 1s 1ms/step - loss: 0.5769 - accuracy: 0.6761 - val_loss: 0.5694 - val_accuracy: 0.6764\n",
      "Epoch 12/20\n",
      "1095/1095 [==============================] - 1s 1ms/step - loss: 0.5768 - accuracy: 0.6806 - val_loss: 0.5695 - val_accuracy: 0.6756\n",
      "Epoch 13/20\n",
      "1095/1095 [==============================] - 1s 1ms/step - loss: 0.5775 - accuracy: 0.6790 - val_loss: 0.5698 - val_accuracy: 0.6727\n",
      "Epoch 14/20\n",
      "1095/1095 [==============================] - 1s 1ms/step - loss: 0.5769 - accuracy: 0.6773 - val_loss: 0.5697 - val_accuracy: 0.6736\n",
      "Epoch 15/20\n",
      "1095/1095 [==============================] - 1s 1ms/step - loss: 0.5759 - accuracy: 0.6803 - val_loss: 0.5696 - val_accuracy: 0.6725\n",
      "Epoch 16/20\n",
      "1095/1095 [==============================] - 1s 1ms/step - loss: 0.5758 - accuracy: 0.6794 - val_loss: 0.5691 - val_accuracy: 0.6760\n",
      "Epoch 17/20\n",
      "1095/1095 [==============================] - 1s 1ms/step - loss: 0.5771 - accuracy: 0.6762 - val_loss: 0.5694 - val_accuracy: 0.6750\n",
      "Epoch 18/20\n",
      "1095/1095 [==============================] - 1s 1ms/step - loss: 0.5766 - accuracy: 0.6823 - val_loss: 0.5699 - val_accuracy: 0.6740\n",
      "Epoch 19/20\n",
      "1095/1095 [==============================] - 1s 1ms/step - loss: 0.5751 - accuracy: 0.6813 - val_loss: 0.5692 - val_accuracy: 0.6761\n",
      "Epoch 20/20\n",
      "1095/1095 [==============================] - 1s 1ms/step - loss: 0.5769 - accuracy: 0.6816 - val_loss: 0.5693 - val_accuracy: 0.6763\n"
     ]
    }
   ],
   "source": [
    "history = model.fit(train_ds, \n",
    "                    validation_data=val_ds,\n",
    "                    epochs=20,\n",
    "                    verbose=True)"
   ]
  },
  {
   "cell_type": "code",
   "execution_count": 25,
   "metadata": {},
   "outputs": [
    {
     "data": {
      "image/png": "[encoded data removed]",
      "text/plain": [
       "<Figure size 432x288 with 1 Axes>"
      ]
     },
     "metadata": {
      "needs_background": "light"
     },
     "output_type": "display_data"
    }
   ],
   "source": [
    "plt.plot(history.history['accuracy'])\n",
    "plt.plot(history.history['val_accuracy'])\n",
    "plt.title('model accuracy')\n",
    "plt.ylabel('accuracy')\n",
    "plt.xlabel('epoch')\n",
    "plt.legend(['train', 'test'], loc='upper right')\n",
    "plt.ylim(0,1)\n",
    "plt.show()\n"
   ]
  },
  {
   "cell_type": "code",
   "execution_count": 26,
   "metadata": {},
   "outputs": [
    {
     "data": {
      "image/png": "[encoded data removed]",
      "text/plain": [
       "<Figure size 432x288 with 1 Axes>"
      ]
     },
     "metadata": {
      "needs_background": "light"
     },
     "output_type": "display_data"
    }
   ],
   "source": [
    "plt.plot(history.history['loss'])\n",
    "plt.plot(history.history['val_loss'])\n",
    "plt.title('model loss')\n",
    "plt.ylabel('loss')\n",
    "plt.xlabel('epoch')\n",
    "plt.legend(['train', 'test'], loc='upper right')\n",
    "plt.ylim(0,1)\n",
    "plt.show()"
   ]
  },
  {
   "cell_type": "code",
   "execution_count": 27,
   "metadata": {},
   "outputs": [
    {
     "name": "stdout",
     "output_type": "stream",
     "text": [
      "343/343 [==============================] - 0s 712us/step - loss: 0.5710 - accuracy: 0.6768\n",
      "Accuracy 0.6768036484718323\n"
     ]
    }
   ],
   "source": [
    "# evaluation on test data\n",
    "loss, accuracy = model.evaluate(test_ds)\n",
    "print(\"Accuracy\", accuracy)"
   ]
  },
  {
   "cell_type": "code",
   "execution_count": 28,
   "metadata": {},
   "outputs": [
    {
     "data": {
      "text/html": [
       "<div>\n",
       "<style scoped>\n",
       "    .dataframe tbody tr th:only-of-type {\n",
       "        vertical-align: middle;\n",
       "    }\n",
       "\n",
       "    .dataframe tbody tr th {\n",
       "        vertical-align: top;\n",
       "    }\n",
       "\n",
       "    .dataframe thead th {\n",
       "        text-align: right;\n",
       "    }\n",
       "</style>\n",
       "<table border=\"1\" class=\"dataframe\">\n",
       "  <thead>\n",
       "    <tr style=\"text-align: right;\">\n",
       "      <th></th>\n",
       "      <th>BMI</th>\n",
       "      <th>Smoking</th>\n",
       "      <th>AlcoholDrinking</th>\n",
       "      <th>Stroke</th>\n",
       "      <th>PhysicalHealth</th>\n",
       "      <th>MentalHealth</th>\n",
       "      <th>DiffWalking</th>\n",
       "      <th>Sex</th>\n",
       "      <th>AgeCategory</th>\n",
       "      <th>Race</th>\n",
       "      <th>Diabetic</th>\n",
       "      <th>PhysicalActivity</th>\n",
       "      <th>GenHealth</th>\n",
       "      <th>SleepTime</th>\n",
       "      <th>Asthma</th>\n",
       "      <th>KidneyDisease</th>\n",
       "      <th>SkinCancer</th>\n",
       "    </tr>\n",
       "  </thead>\n",
       "  <tbody>\n",
       "    <tr>\n",
       "      <th>155070</th>\n",
       "      <td>23.49</td>\n",
       "      <td>Yes</td>\n",
       "      <td>No</td>\n",
       "      <td>No</td>\n",
       "      <td>2.0</td>\n",
       "      <td>0.0</td>\n",
       "      <td>No</td>\n",
       "      <td>Female</td>\n",
       "      <td>70-74</td>\n",
       "      <td>White</td>\n",
       "      <td>No</td>\n",
       "      <td>Yes</td>\n",
       "      <td>Fair</td>\n",
       "      <td>7.0</td>\n",
       "      <td>No</td>\n",
       "      <td>Yes</td>\n",
       "      <td>Yes</td>\n",
       "    </tr>\n",
       "    <tr>\n",
       "      <th>187033</th>\n",
       "      <td>27.41</td>\n",
       "      <td>No</td>\n",
       "      <td>No</td>\n",
       "      <td>No</td>\n",
       "      <td>0.0</td>\n",
       "      <td>0.0</td>\n",
       "      <td>No</td>\n",
       "      <td>Male</td>\n",
       "      <td>65-69</td>\n",
       "      <td>White</td>\n",
       "      <td>No</td>\n",
       "      <td>Yes</td>\n",
       "      <td>Excellent</td>\n",
       "      <td>8.0</td>\n",
       "      <td>No</td>\n",
       "      <td>No</td>\n",
       "      <td>No</td>\n",
       "    </tr>\n",
       "    <tr>\n",
       "      <th>215564</th>\n",
       "      <td>25.40</td>\n",
       "      <td>Yes</td>\n",
       "      <td>No</td>\n",
       "      <td>No</td>\n",
       "      <td>0.0</td>\n",
       "      <td>0.0</td>\n",
       "      <td>No</td>\n",
       "      <td>Male</td>\n",
       "      <td>75-79</td>\n",
       "      <td>White</td>\n",
       "      <td>No</td>\n",
       "      <td>Yes</td>\n",
       "      <td>Excellent</td>\n",
       "      <td>6.0</td>\n",
       "      <td>No</td>\n",
       "      <td>No</td>\n",
       "      <td>No</td>\n",
       "    </tr>\n",
       "    <tr>\n",
       "      <th>131421</th>\n",
       "      <td>36.59</td>\n",
       "      <td>No</td>\n",
       "      <td>No</td>\n",
       "      <td>No</td>\n",
       "      <td>1.0</td>\n",
       "      <td>0.0</td>\n",
       "      <td>No</td>\n",
       "      <td>Male</td>\n",
       "      <td>70-74</td>\n",
       "      <td>White</td>\n",
       "      <td>No</td>\n",
       "      <td>Yes</td>\n",
       "      <td>Excellent</td>\n",
       "      <td>8.0</td>\n",
       "      <td>No</td>\n",
       "      <td>No</td>\n",
       "      <td>No</td>\n",
       "    </tr>\n",
       "    <tr>\n",
       "      <th>17854</th>\n",
       "      <td>28.89</td>\n",
       "      <td>No</td>\n",
       "      <td>No</td>\n",
       "      <td>Yes</td>\n",
       "      <td>30.0</td>\n",
       "      <td>30.0</td>\n",
       "      <td>Yes</td>\n",
       "      <td>Female</td>\n",
       "      <td>65-69</td>\n",
       "      <td>American Indian/Alaskan Native</td>\n",
       "      <td>No</td>\n",
       "      <td>No</td>\n",
       "      <td>Poor</td>\n",
       "      <td>6.0</td>\n",
       "      <td>No</td>\n",
       "      <td>No</td>\n",
       "      <td>No</td>\n",
       "    </tr>\n",
       "    <tr>\n",
       "      <th>...</th>\n",
       "      <td>...</td>\n",
       "      <td>...</td>\n",
       "      <td>...</td>\n",
       "      <td>...</td>\n",
       "      <td>...</td>\n",
       "      <td>...</td>\n",
       "      <td>...</td>\n",
       "      <td>...</td>\n",
       "      <td>...</td>\n",
       "      <td>...</td>\n",
       "      <td>...</td>\n",
       "      <td>...</td>\n",
       "      <td>...</td>\n",
       "      <td>...</td>\n",
       "      <td>...</td>\n",
       "      <td>...</td>\n",
       "      <td>...</td>\n",
       "    </tr>\n",
       "    <tr>\n",
       "      <th>275768</th>\n",
       "      <td>31.46</td>\n",
       "      <td>Yes</td>\n",
       "      <td>No</td>\n",
       "      <td>No</td>\n",
       "      <td>0.0</td>\n",
       "      <td>10.0</td>\n",
       "      <td>No</td>\n",
       "      <td>Male</td>\n",
       "      <td>65-69</td>\n",
       "      <td>White</td>\n",
       "      <td>Yes</td>\n",
       "      <td>No</td>\n",
       "      <td>Fair</td>\n",
       "      <td>8.0</td>\n",
       "      <td>No</td>\n",
       "      <td>No</td>\n",
       "      <td>No</td>\n",
       "    </tr>\n",
       "    <tr>\n",
       "      <th>68242</th>\n",
       "      <td>29.99</td>\n",
       "      <td>Yes</td>\n",
       "      <td>Yes</td>\n",
       "      <td>No</td>\n",
       "      <td>0.0</td>\n",
       "      <td>2.0</td>\n",
       "      <td>No</td>\n",
       "      <td>Male</td>\n",
       "      <td>60-64</td>\n",
       "      <td>White</td>\n",
       "      <td>No</td>\n",
       "      <td>Yes</td>\n",
       "      <td>Very good</td>\n",
       "      <td>7.0</td>\n",
       "      <td>No</td>\n",
       "      <td>No</td>\n",
       "      <td>Yes</td>\n",
       "    </tr>\n",
       "    <tr>\n",
       "      <th>277990</th>\n",
       "      <td>26.57</td>\n",
       "      <td>No</td>\n",
       "      <td>No</td>\n",
       "      <td>No</td>\n",
       "      <td>14.0</td>\n",
       "      <td>0.0</td>\n",
       "      <td>No</td>\n",
       "      <td>Female</td>\n",
       "      <td>70-74</td>\n",
       "      <td>White</td>\n",
       "      <td>No</td>\n",
       "      <td>Yes</td>\n",
       "      <td>Good</td>\n",
       "      <td>6.0</td>\n",
       "      <td>No</td>\n",
       "      <td>No</td>\n",
       "      <td>Yes</td>\n",
       "    </tr>\n",
       "    <tr>\n",
       "      <th>197216</th>\n",
       "      <td>29.84</td>\n",
       "      <td>Yes</td>\n",
       "      <td>No</td>\n",
       "      <td>Yes</td>\n",
       "      <td>1.0</td>\n",
       "      <td>0.0</td>\n",
       "      <td>No</td>\n",
       "      <td>Male</td>\n",
       "      <td>80 or older</td>\n",
       "      <td>Other</td>\n",
       "      <td>No</td>\n",
       "      <td>Yes</td>\n",
       "      <td>Very good</td>\n",
       "      <td>10.0</td>\n",
       "      <td>No</td>\n",
       "      <td>No</td>\n",
       "      <td>Yes</td>\n",
       "    </tr>\n",
       "    <tr>\n",
       "      <th>72641</th>\n",
       "      <td>18.31</td>\n",
       "      <td>No</td>\n",
       "      <td>No</td>\n",
       "      <td>No</td>\n",
       "      <td>0.0</td>\n",
       "      <td>0.0</td>\n",
       "      <td>No</td>\n",
       "      <td>Male</td>\n",
       "      <td>18-24</td>\n",
       "      <td>White</td>\n",
       "      <td>No</td>\n",
       "      <td>Yes</td>\n",
       "      <td>Excellent</td>\n",
       "      <td>9.0</td>\n",
       "      <td>No</td>\n",
       "      <td>No</td>\n",
       "      <td>No</td>\n",
       "    </tr>\n",
       "  </tbody>\n",
       "</table>\n",
       "<p>54746 rows × 17 columns</p>\n",
       "</div>"
      ],
      "text/plain": [
       "          BMI Smoking AlcoholDrinking Stroke  PhysicalHealth  MentalHealth  \\\n",
       "155070  23.49     Yes              No     No             2.0           0.0   \n",
       "187033  27.41      No              No     No             0.0           0.0   \n",
       "215564  25.40     Yes              No     No             0.0           0.0   \n",
       "131421  36.59      No              No     No             1.0           0.0   \n",
       "17854   28.89      No              No    Yes            30.0          30.0   \n",
       "...       ...     ...             ...    ...             ...           ...   \n",
       "275768  31.46     Yes              No     No             0.0          10.0   \n",
       "68242   29.99     Yes             Yes     No             0.0           2.0   \n",
       "277990  26.57      No              No     No            14.0           0.0   \n",
       "197216  29.84     Yes              No    Yes             1.0           0.0   \n",
       "72641   18.31      No              No     No             0.0           0.0   \n",
       "\n",
       "       DiffWalking     Sex  AgeCategory                            Race  \\\n",
       "155070          No  Female        70-74                           White   \n",
       "187033          No    Male        65-69                           White   \n",
       "215564          No    Male        75-79                           White   \n",
       "131421          No    Male        70-74                           White   \n",
       "17854          Yes  Female        65-69  American Indian/Alaskan Native   \n",
       "...            ...     ...          ...                             ...   \n",
       "275768          No    Male        65-69                           White   \n",
       "68242           No    Male        60-64                           White   \n",
       "277990          No  Female        70-74                           White   \n",
       "197216          No    Male  80 or older                           Other   \n",
       "72641           No    Male        18-24                           White   \n",
       "\n",
       "       Diabetic PhysicalActivity  GenHealth  SleepTime Asthma KidneyDisease  \\\n",
       "155070       No              Yes       Fair        7.0     No           Yes   \n",
       "187033       No              Yes  Excellent        8.0     No            No   \n",
       "215564       No              Yes  Excellent        6.0     No            No   \n",
       "131421       No              Yes  Excellent        8.0     No            No   \n",
       "17854        No               No       Poor        6.0     No            No   \n",
       "...         ...              ...        ...        ...    ...           ...   \n",
       "275768      Yes               No       Fair        8.0     No            No   \n",
       "68242        No              Yes  Very good        7.0     No            No   \n",
       "277990       No              Yes       Good        6.0     No            No   \n",
       "197216       No              Yes  Very good       10.0     No            No   \n",
       "72641        No              Yes  Excellent        9.0     No            No   \n",
       "\n",
       "       SkinCancer  \n",
       "155070        Yes  \n",
       "187033         No  \n",
       "215564         No  \n",
       "131421         No  \n",
       "17854          No  \n",
       "...           ...  \n",
       "275768         No  \n",
       "68242         Yes  \n",
       "277990        Yes  \n",
       "197216        Yes  \n",
       "72641          No  \n",
       "\n",
       "[54746 rows x 17 columns]"
      ]
     },
     "execution_count": 28,
     "metadata": {},
     "output_type": "execute_result"
    }
   ],
   "source": [
    "data"
   ]
  },
  {
   "cell_type": "code",
   "execution_count": 29,
   "metadata": {},
   "outputs": [],
   "source": [
    "predictions = model.predict(test_ds)"
   ]
  },
  {
   "cell_type": "code",
   "execution_count": 30,
   "metadata": {},
   "outputs": [
    {
     "data": {
      "text/plain": [
       "10950"
      ]
     },
     "execution_count": 30,
     "metadata": {},
     "output_type": "execute_result"
    }
   ],
   "source": [
    "len(predictions.reshape(-1))"
   ]
  },
  {
   "cell_type": "code",
   "execution_count": 48,
   "metadata": {},
   "outputs": [
    {
     "data": {
      "text/plain": [
       "<sklearn.metrics._plot.confusion_matrix.ConfusionMatrixDisplay at 0x7f7f823e4880>"
      ]
     },
     "execution_count": 48,
     "metadata": {},
     "output_type": "execute_result"
    },
    {
     "data": {
      "image/png": "[encoded data removed]",
      "text/plain": [
       "<Figure size 432x288 with 2 Axes>"
      ]
     },
     "metadata": {
      "needs_background": "light"
     },
     "output_type": "display_data"
    }
   ],
   "source": [
    "from sklearn.metrics import confusion_matrix, ConfusionMatrixDisplay, classification_report\n",
    "\n",
    "binary_prediction = [1 if i>0.5 else 0 for i in predictions.reshape(-1)]\n",
    "ConfusionMatrixDisplay(confusion_matrix=confusion_matrix(test_label, binary_prediction)).plot()"
   ]
  },
  {
   "cell_type": "code",
   "execution_count": 32,
   "metadata": {},
   "outputs": [
    {
     "name": "stdout",
     "output_type": "stream",
     "text": [
      "              precision    recall  f1-score   support\n",
      "\n",
      "           0       0.63      0.87      0.73      5455\n",
      "           1       0.79      0.48      0.60      5495\n",
      "\n",
      "    accuracy                           0.68     10950\n",
      "   macro avg       0.71      0.68      0.66     10950\n",
      "weighted avg       0.71      0.68      0.66     10950\n",
      "\n"
     ]
    }
   ],
   "source": [
    "print(classification_report(test_label, binary_prediction))"
   ]
  },
  {
   "cell_type": "code",
   "execution_count": 33,
   "metadata": {},
   "outputs": [],
   "source": [
    "from sklearn.linear_model import LogisticRegression"
   ]
  },
  {
   "cell_type": "code",
   "execution_count": 41,
   "metadata": {},
   "outputs": [],
   "source": [
    "train_df, test_df, train_df_label, test_df_label = train_test_split(working_df, label, test_size = 0.2)\n",
    "train_df, val_df, train_df_label, val_df_label = train_test_split(train_df, train_df_label, test_size = 0.2)"
   ]
  },
  {
   "cell_type": "code",
   "execution_count": 49,
   "metadata": {},
   "outputs": [
    {
     "data": {
      "text/plain": [
       "LogisticRegression()"
      ]
     },
     "execution_count": 49,
     "metadata": {},
     "output_type": "execute_result"
    }
   ],
   "source": [
    "regressor = LogisticRegression()\n",
    "regressor.fit(train_df, train_label)"
   ]
  },
  {
   "cell_type": "code",
   "execution_count": 52,
   "metadata": {},
   "outputs": [
    {
     "data": {
      "text/plain": [
       "<sklearn.metrics._plot.confusion_matrix.ConfusionMatrixDisplay at 0x7f7f7dfb7190>"
      ]
     },
     "execution_count": 52,
     "metadata": {},
     "output_type": "execute_result"
    },
    {
     "data": {
      "image/png": "[encoded data removed]",
      "text/plain": [
       "<Figure size 432x288 with 2 Axes>"
      ]
     },
     "metadata": {
      "needs_background": "light"
     },
     "output_type": "display_data"
    }
   ],
   "source": [
    "regressor_predictions =regressor.predict(val_df)\n",
    "ConfusionMatrixDisplay(confusion_matrix=confusion_matrix(val_df_label, regressor_predictions)).plot()"
   ]
  },
  {
   "cell_type": "code",
   "execution_count": 53,
   "metadata": {},
   "outputs": [
    {
     "name": "stdout",
     "output_type": "stream",
     "text": [
      "              precision    recall  f1-score   support\n",
      "\n",
      "           0       0.49      0.59      0.54      4363\n",
      "           1       0.50      0.40      0.44      4397\n",
      "\n",
      "    accuracy                           0.50      8760\n",
      "   macro avg       0.50      0.50      0.49      8760\n",
      "weighted avg       0.50      0.50      0.49      8760\n",
      "\n"
     ]
    }
   ],
   "source": [
    "print(classification_report(val_df_label, regressor_predictions))"
   ]
  },
  {
   "cell_type": "code",
   "execution_count": 54,
   "metadata": {},
   "outputs": [
    {
     "data": {
      "text/html": [
       "<div>\n",
       "<style scoped>\n",
       "    .dataframe tbody tr th:only-of-type {\n",
       "        vertical-align: middle;\n",
       "    }\n",
       "\n",
       "    .dataframe tbody tr th {\n",
       "        vertical-align: top;\n",
       "    }\n",
       "\n",
       "    .dataframe thead th {\n",
       "        text-align: right;\n",
       "    }\n",
       "</style>\n",
       "<table border=\"1\" class=\"dataframe\">\n",
       "  <thead>\n",
       "    <tr style=\"text-align: right;\">\n",
       "      <th></th>\n",
       "      <th>BMI</th>\n",
       "      <th>Smoking</th>\n",
       "      <th>AlcoholDrinking</th>\n",
       "      <th>Stroke</th>\n",
       "      <th>PhysicalHealth</th>\n",
       "      <th>MentalHealth</th>\n",
       "      <th>DiffWalking</th>\n",
       "      <th>Sex</th>\n",
       "      <th>AgeCategory</th>\n",
       "      <th>Race</th>\n",
       "      <th>Diabetic</th>\n",
       "      <th>PhysicalActivity</th>\n",
       "      <th>GenHealth</th>\n",
       "      <th>SleepTime</th>\n",
       "      <th>Asthma</th>\n",
       "      <th>KidneyDisease</th>\n",
       "      <th>SkinCancer</th>\n",
       "    </tr>\n",
       "  </thead>\n",
       "  <tbody>\n",
       "    <tr>\n",
       "      <th>155070</th>\n",
       "      <td>23.49</td>\n",
       "      <td>0</td>\n",
       "      <td>0</td>\n",
       "      <td>0</td>\n",
       "      <td>2.0</td>\n",
       "      <td>0.0</td>\n",
       "      <td>0</td>\n",
       "      <td>0</td>\n",
       "      <td>0</td>\n",
       "      <td>0</td>\n",
       "      <td>0</td>\n",
       "      <td>0</td>\n",
       "      <td>0</td>\n",
       "      <td>7.0</td>\n",
       "      <td>0</td>\n",
       "      <td>0</td>\n",
       "      <td>0</td>\n",
       "    </tr>\n",
       "    <tr>\n",
       "      <th>187033</th>\n",
       "      <td>27.41</td>\n",
       "      <td>1</td>\n",
       "      <td>0</td>\n",
       "      <td>0</td>\n",
       "      <td>0.0</td>\n",
       "      <td>0.0</td>\n",
       "      <td>0</td>\n",
       "      <td>1</td>\n",
       "      <td>1</td>\n",
       "      <td>0</td>\n",
       "      <td>0</td>\n",
       "      <td>0</td>\n",
       "      <td>1</td>\n",
       "      <td>8.0</td>\n",
       "      <td>0</td>\n",
       "      <td>1</td>\n",
       "      <td>1</td>\n",
       "    </tr>\n",
       "    <tr>\n",
       "      <th>215564</th>\n",
       "      <td>25.40</td>\n",
       "      <td>0</td>\n",
       "      <td>0</td>\n",
       "      <td>0</td>\n",
       "      <td>0.0</td>\n",
       "      <td>0.0</td>\n",
       "      <td>0</td>\n",
       "      <td>1</td>\n",
       "      <td>2</td>\n",
       "      <td>0</td>\n",
       "      <td>0</td>\n",
       "      <td>0</td>\n",
       "      <td>1</td>\n",
       "      <td>6.0</td>\n",
       "      <td>0</td>\n",
       "      <td>1</td>\n",
       "      <td>1</td>\n",
       "    </tr>\n",
       "    <tr>\n",
       "      <th>131421</th>\n",
       "      <td>36.59</td>\n",
       "      <td>1</td>\n",
       "      <td>0</td>\n",
       "      <td>0</td>\n",
       "      <td>1.0</td>\n",
       "      <td>0.0</td>\n",
       "      <td>0</td>\n",
       "      <td>1</td>\n",
       "      <td>0</td>\n",
       "      <td>0</td>\n",
       "      <td>0</td>\n",
       "      <td>0</td>\n",
       "      <td>1</td>\n",
       "      <td>8.0</td>\n",
       "      <td>0</td>\n",
       "      <td>1</td>\n",
       "      <td>1</td>\n",
       "    </tr>\n",
       "    <tr>\n",
       "      <th>17854</th>\n",
       "      <td>28.89</td>\n",
       "      <td>1</td>\n",
       "      <td>0</td>\n",
       "      <td>1</td>\n",
       "      <td>30.0</td>\n",
       "      <td>30.0</td>\n",
       "      <td>1</td>\n",
       "      <td>0</td>\n",
       "      <td>1</td>\n",
       "      <td>1</td>\n",
       "      <td>0</td>\n",
       "      <td>1</td>\n",
       "      <td>2</td>\n",
       "      <td>6.0</td>\n",
       "      <td>0</td>\n",
       "      <td>1</td>\n",
       "      <td>1</td>\n",
       "    </tr>\n",
       "    <tr>\n",
       "      <th>...</th>\n",
       "      <td>...</td>\n",
       "      <td>...</td>\n",
       "      <td>...</td>\n",
       "      <td>...</td>\n",
       "      <td>...</td>\n",
       "      <td>...</td>\n",
       "      <td>...</td>\n",
       "      <td>...</td>\n",
       "      <td>...</td>\n",
       "      <td>...</td>\n",
       "      <td>...</td>\n",
       "      <td>...</td>\n",
       "      <td>...</td>\n",
       "      <td>...</td>\n",
       "      <td>...</td>\n",
       "      <td>...</td>\n",
       "      <td>...</td>\n",
       "    </tr>\n",
       "    <tr>\n",
       "      <th>275768</th>\n",
       "      <td>31.46</td>\n",
       "      <td>0</td>\n",
       "      <td>0</td>\n",
       "      <td>0</td>\n",
       "      <td>0.0</td>\n",
       "      <td>10.0</td>\n",
       "      <td>0</td>\n",
       "      <td>1</td>\n",
       "      <td>1</td>\n",
       "      <td>0</td>\n",
       "      <td>1</td>\n",
       "      <td>1</td>\n",
       "      <td>0</td>\n",
       "      <td>8.0</td>\n",
       "      <td>0</td>\n",
       "      <td>1</td>\n",
       "      <td>1</td>\n",
       "    </tr>\n",
       "    <tr>\n",
       "      <th>68242</th>\n",
       "      <td>29.99</td>\n",
       "      <td>0</td>\n",
       "      <td>1</td>\n",
       "      <td>0</td>\n",
       "      <td>0.0</td>\n",
       "      <td>2.0</td>\n",
       "      <td>0</td>\n",
       "      <td>1</td>\n",
       "      <td>3</td>\n",
       "      <td>0</td>\n",
       "      <td>0</td>\n",
       "      <td>0</td>\n",
       "      <td>4</td>\n",
       "      <td>7.0</td>\n",
       "      <td>0</td>\n",
       "      <td>1</td>\n",
       "      <td>0</td>\n",
       "    </tr>\n",
       "    <tr>\n",
       "      <th>277990</th>\n",
       "      <td>26.57</td>\n",
       "      <td>1</td>\n",
       "      <td>0</td>\n",
       "      <td>0</td>\n",
       "      <td>14.0</td>\n",
       "      <td>0.0</td>\n",
       "      <td>0</td>\n",
       "      <td>0</td>\n",
       "      <td>0</td>\n",
       "      <td>0</td>\n",
       "      <td>0</td>\n",
       "      <td>0</td>\n",
       "      <td>3</td>\n",
       "      <td>6.0</td>\n",
       "      <td>0</td>\n",
       "      <td>1</td>\n",
       "      <td>0</td>\n",
       "    </tr>\n",
       "    <tr>\n",
       "      <th>197216</th>\n",
       "      <td>29.84</td>\n",
       "      <td>0</td>\n",
       "      <td>0</td>\n",
       "      <td>1</td>\n",
       "      <td>1.0</td>\n",
       "      <td>0.0</td>\n",
       "      <td>0</td>\n",
       "      <td>1</td>\n",
       "      <td>4</td>\n",
       "      <td>2</td>\n",
       "      <td>0</td>\n",
       "      <td>0</td>\n",
       "      <td>4</td>\n",
       "      <td>10.0</td>\n",
       "      <td>0</td>\n",
       "      <td>1</td>\n",
       "      <td>0</td>\n",
       "    </tr>\n",
       "    <tr>\n",
       "      <th>72641</th>\n",
       "      <td>18.31</td>\n",
       "      <td>1</td>\n",
       "      <td>0</td>\n",
       "      <td>0</td>\n",
       "      <td>0.0</td>\n",
       "      <td>0.0</td>\n",
       "      <td>0</td>\n",
       "      <td>1</td>\n",
       "      <td>12</td>\n",
       "      <td>0</td>\n",
       "      <td>0</td>\n",
       "      <td>0</td>\n",
       "      <td>1</td>\n",
       "      <td>9.0</td>\n",
       "      <td>0</td>\n",
       "      <td>1</td>\n",
       "      <td>1</td>\n",
       "    </tr>\n",
       "  </tbody>\n",
       "</table>\n",
       "<p>54746 rows × 17 columns</p>\n",
       "</div>"
      ],
      "text/plain": [
       "          BMI  Smoking  AlcoholDrinking  Stroke  PhysicalHealth  MentalHealth  \\\n",
       "155070  23.49        0                0       0             2.0           0.0   \n",
       "187033  27.41        1                0       0             0.0           0.0   \n",
       "215564  25.40        0                0       0             0.0           0.0   \n",
       "131421  36.59        1                0       0             1.0           0.0   \n",
       "17854   28.89        1                0       1            30.0          30.0   \n",
       "...       ...      ...              ...     ...             ...           ...   \n",
       "275768  31.46        0                0       0             0.0          10.0   \n",
       "68242   29.99        0                1       0             0.0           2.0   \n",
       "277990  26.57        1                0       0            14.0           0.0   \n",
       "197216  29.84        0                0       1             1.0           0.0   \n",
       "72641   18.31        1                0       0             0.0           0.0   \n",
       "\n",
       "        DiffWalking  Sex  AgeCategory  Race  Diabetic  PhysicalActivity  \\\n",
       "155070            0    0            0     0         0                 0   \n",
       "187033            0    1            1     0         0                 0   \n",
       "215564            0    1            2     0         0                 0   \n",
       "131421            0    1            0     0         0                 0   \n",
       "17854             1    0            1     1         0                 1   \n",
       "...             ...  ...          ...   ...       ...               ...   \n",
       "275768            0    1            1     0         1                 1   \n",
       "68242             0    1            3     0         0                 0   \n",
       "277990            0    0            0     0         0                 0   \n",
       "197216            0    1            4     2         0                 0   \n",
       "72641             0    1           12     0         0                 0   \n",
       "\n",
       "        GenHealth  SleepTime  Asthma  KidneyDisease  SkinCancer  \n",
       "155070          0        7.0       0              0           0  \n",
       "187033          1        8.0       0              1           1  \n",
       "215564          1        6.0       0              1           1  \n",
       "131421          1        8.0       0              1           1  \n",
       "17854           2        6.0       0              1           1  \n",
       "...           ...        ...     ...            ...         ...  \n",
       "275768          0        8.0       0              1           1  \n",
       "68242           4        7.0       0              1           0  \n",
       "277990          3        6.0       0              1           0  \n",
       "197216          4       10.0       0              1           0  \n",
       "72641           1        9.0       0              1           1  \n",
       "\n",
       "[54746 rows x 17 columns]"
      ]
     },
     "execution_count": 54,
     "metadata": {},
     "output_type": "execute_result"
    }
   ],
   "source": [
    "working_df"
   ]
  },
  {
   "cell_type": "code",
   "execution_count": null,
   "metadata": {},
   "outputs": [],
   "source": []
  }
 ],
 "metadata": {
  "kernelspec": {
   "display_name": "Python 3",
   "language": "python",
   "name": "python3"
  },
  "language_info": {
   "codemirror_mode": {
    "name": "ipython",
    "version": 3
   },
   "file_extension": ".py",
   "mimetype": "text/x-python",
   "name": "python",
   "nbconvert_exporter": "python",
   "pygments_lexer": "ipython3",
   "version": "3.8.3"
  }
 },
 "nbformat": 4,
 "nbformat_minor": 4
}
