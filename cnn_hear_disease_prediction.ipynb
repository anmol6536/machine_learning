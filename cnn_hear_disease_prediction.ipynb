{
 "cells": [
  {
   "cell_type": "code",
   "execution_count": null,
   "metadata": {},
   "outputs": [],
   "source": []
  },
  {
   "cell_type": "code",
   "execution_count": 1,
   "metadata": {},
   "outputs": [],
   "source": [
    "import pandas as pd\n",
    "import seaborn as sns\n",
    "# df = pd.read_csv('/Users/anmol_gorakshakar/python/machine_learning/heart_disease/heart_disease.csv')\n",
    "df = pd.read_csv('/Users/anmol_gorakshakar/Downloads/fastball_train1.csv')"
   ]
  },
  {
   "cell_type": "code",
   "execution_count": 198,
   "metadata": {},
   "outputs": [
    {
     "data": {
      "text/plain": [
       "<AxesSubplot:>"
      ]
     },
     "execution_count": 198,
     "metadata": {},
     "output_type": "execute_result"
    },
    {
     "data": {
      "image/png": "[encoded data removed]",
      "text/plain": [
       "<Figure size 432x288 with 2 Axes>"
      ]
     },
     "metadata": {
      "needs_background": "light"
     },
     "output_type": "display_data"
    }
   ],
   "source": [
    "sns.heatmap(df.corr(), annot=True, cmap='viridis', mask = np.triu(df.corr()))"
   ]
  },
  {
   "cell_type": "code",
   "execution_count": 2,
   "metadata": {},
   "outputs": [
    {
     "data": {
      "text/html": [
       "<div>\n",
       "<style scoped>\n",
       "    .dataframe tbody tr th:only-of-type {\n",
       "        vertical-align: middle;\n",
       "    }\n",
       "\n",
       "    .dataframe tbody tr th {\n",
       "        vertical-align: top;\n",
       "    }\n",
       "\n",
       "    .dataframe thead th {\n",
       "        text-align: right;\n",
       "    }\n",
       "</style>\n",
       "<table border=\"1\" class=\"dataframe\">\n",
       "  <thead>\n",
       "    <tr style=\"text-align: right;\">\n",
       "      <th></th>\n",
       "      <th>player_name</th>\n",
       "      <th>Season</th>\n",
       "      <th>Fastballs</th>\n",
       "      <th>velocity</th>\n",
       "      <th>spin_rate</th>\n",
       "      <th>pitch_percent</th>\n",
       "      <th>total_pitches</th>\n",
       "      <th>Injured</th>\n",
       "    </tr>\n",
       "  </thead>\n",
       "  <tbody>\n",
       "    <tr>\n",
       "      <th>1822</th>\n",
       "      <td>Jesus Sucre</td>\n",
       "      <td>2017</td>\n",
       "      <td>13</td>\n",
       "      <td>85.0</td>\n",
       "      <td>1833</td>\n",
       "      <td>41.9</td>\n",
       "      <td>31</td>\n",
       "      <td>0</td>\n",
       "    </tr>\n",
       "    <tr>\n",
       "      <th>425</th>\n",
       "      <td>Roman Mendez</td>\n",
       "      <td>2015</td>\n",
       "      <td>123</td>\n",
       "      <td>93.9</td>\n",
       "      <td>2169</td>\n",
       "      <td>59.7</td>\n",
       "      <td>206</td>\n",
       "      <td>0</td>\n",
       "    </tr>\n",
       "    <tr>\n",
       "      <th>984</th>\n",
       "      <td>Will Smith</td>\n",
       "      <td>2016</td>\n",
       "      <td>180</td>\n",
       "      <td>92.3</td>\n",
       "      <td>2249</td>\n",
       "      <td>52.2</td>\n",
       "      <td>345</td>\n",
       "      <td>0</td>\n",
       "    </tr>\n",
       "    <tr>\n",
       "      <th>161</th>\n",
       "      <td>Justin Verlander</td>\n",
       "      <td>2015</td>\n",
       "      <td>456</td>\n",
       "      <td>93.3</td>\n",
       "      <td>2489</td>\n",
       "      <td>55.7</td>\n",
       "      <td>819</td>\n",
       "      <td>0</td>\n",
       "    </tr>\n",
       "    <tr>\n",
       "      <th>931</th>\n",
       "      <td>Matt Thornton</td>\n",
       "      <td>2016</td>\n",
       "      <td>252</td>\n",
       "      <td>90.8</td>\n",
       "      <td>1898</td>\n",
       "      <td>93.7</td>\n",
       "      <td>269</td>\n",
       "      <td>0</td>\n",
       "    </tr>\n",
       "    <tr>\n",
       "      <th>177</th>\n",
       "      <td>Ryan Mattheus</td>\n",
       "      <td>2015</td>\n",
       "      <td>430</td>\n",
       "      <td>93.1</td>\n",
       "      <td>2142</td>\n",
       "      <td>83.8</td>\n",
       "      <td>513</td>\n",
       "      <td>0</td>\n",
       "    </tr>\n",
       "    <tr>\n",
       "      <th>2202</th>\n",
       "      <td>Jefry Rodriguez</td>\n",
       "      <td>2018</td>\n",
       "      <td>229</td>\n",
       "      <td>95.3</td>\n",
       "      <td>2316</td>\n",
       "      <td>64.0</td>\n",
       "      <td>358</td>\n",
       "      <td>0</td>\n",
       "    </tr>\n",
       "    <tr>\n",
       "      <th>2474</th>\n",
       "      <td>Miguel Diaz</td>\n",
       "      <td>2018</td>\n",
       "      <td>19</td>\n",
       "      <td>96.8</td>\n",
       "      <td>2432</td>\n",
       "      <td>55.9</td>\n",
       "      <td>34</td>\n",
       "      <td>0</td>\n",
       "    </tr>\n",
       "    <tr>\n",
       "      <th>1100</th>\n",
       "      <td>Bobby Parnell</td>\n",
       "      <td>2016</td>\n",
       "      <td>66</td>\n",
       "      <td>94.6</td>\n",
       "      <td>2125</td>\n",
       "      <td>66.0</td>\n",
       "      <td>100</td>\n",
       "      <td>0</td>\n",
       "    </tr>\n",
       "    <tr>\n",
       "      <th>1830</th>\n",
       "      <td>Steve Cishek</td>\n",
       "      <td>2017</td>\n",
       "      <td>11</td>\n",
       "      <td>89.9</td>\n",
       "      <td>2274</td>\n",
       "      <td>2.9</td>\n",
       "      <td>379</td>\n",
       "      <td>0</td>\n",
       "    </tr>\n",
       "  </tbody>\n",
       "</table>\n",
       "</div>"
      ],
      "text/plain": [
       "           player_name  Season  Fastballs  velocity  spin_rate  pitch_percent  \\\n",
       "1822       Jesus Sucre    2017         13      85.0       1833           41.9   \n",
       "425       Roman Mendez    2015        123      93.9       2169           59.7   \n",
       "984         Will Smith    2016        180      92.3       2249           52.2   \n",
       "161   Justin Verlander    2015        456      93.3       2489           55.7   \n",
       "931      Matt Thornton    2016        252      90.8       1898           93.7   \n",
       "177      Ryan Mattheus    2015        430      93.1       2142           83.8   \n",
       "2202   Jefry Rodriguez    2018        229      95.3       2316           64.0   \n",
       "2474       Miguel Diaz    2018         19      96.8       2432           55.9   \n",
       "1100     Bobby Parnell    2016         66      94.6       2125           66.0   \n",
       "1830      Steve Cishek    2017         11      89.9       2274            2.9   \n",
       "\n",
       "      total_pitches  Injured  \n",
       "1822             31        0  \n",
       "425             206        0  \n",
       "984             345        0  \n",
       "161             819        0  \n",
       "931             269        0  \n",
       "177             513        0  \n",
       "2202            358        0  \n",
       "2474             34        0  \n",
       "1100            100        0  \n",
       "1830            379        0  "
      ]
     },
     "execution_count": 2,
     "metadata": {},
     "output_type": "execute_result"
    }
   ],
   "source": [
    "df.sample(n=10)"
   ]
  },
  {
   "cell_type": "code",
   "execution_count": 3,
   "metadata": {},
   "outputs": [],
   "source": [
    "df = df[['Fastballs', 'velocity', 'spin_rate','pitch_percent', 'total_pitches','Injured']]"
   ]
  },
  {
   "cell_type": "code",
   "execution_count": 20,
   "metadata": {},
   "outputs": [
    {
     "data": {
      "text/plain": [
       "<AxesSubplot:>"
      ]
     },
     "execution_count": 20,
     "metadata": {},
     "output_type": "execute_result"
    },
    {
     "data": {
      "image/png": "[encoded data removed]",
      "text/plain": [
       "<Figure size 432x288 with 1 Axes>"
      ]
     },
     "metadata": {
      "needs_background": "light"
     },
     "output_type": "display_data"
    }
   ],
   "source": [
    "df.Injured.value_counts().plot(kind='bar')"
   ]
  },
  {
   "cell_type": "code",
   "execution_count": 5,
   "metadata": {},
   "outputs": [],
   "source": [
    "def preprocess_categorical(dataframe):\n",
    "    df = dataframe.copy()\n",
    "    cols = df.columns\n",
    "    for col in cols:\n",
    "        categorical_dict = {}\n",
    "        if df[col].dtype == 'object':\n",
    "            unique_values = {v:k for k,v in zip(range(len(df[col].unique())), df[col].unique())}\n",
    "            categorical_dict[col] = unique_values\n",
    "            print(unique_values)\n",
    "            df[col] = df[col].apply(lambda x: unique_values[x])\n",
    "    return df\n",
    "\n",
    "processed_df = preprocess_categorical(df)"
   ]
  },
  {
   "cell_type": "code",
   "execution_count": 7,
   "metadata": {},
   "outputs": [
    {
     "data": {
      "text/html": [
       "<div>\n",
       "<style scoped>\n",
       "    .dataframe tbody tr th:only-of-type {\n",
       "        vertical-align: middle;\n",
       "    }\n",
       "\n",
       "    .dataframe tbody tr th {\n",
       "        vertical-align: top;\n",
       "    }\n",
       "\n",
       "    .dataframe thead th {\n",
       "        text-align: right;\n",
       "    }\n",
       "</style>\n",
       "<table border=\"1\" class=\"dataframe\">\n",
       "  <thead>\n",
       "    <tr style=\"text-align: right;\">\n",
       "      <th></th>\n",
       "      <th>Fastballs</th>\n",
       "      <th>velocity</th>\n",
       "      <th>spin_rate</th>\n",
       "      <th>pitch_percent</th>\n",
       "      <th>total_pitches</th>\n",
       "      <th>Injured</th>\n",
       "    </tr>\n",
       "  </thead>\n",
       "  <tbody>\n",
       "    <tr>\n",
       "      <th>1197</th>\n",
       "      <td>11</td>\n",
       "      <td>92.3</td>\n",
       "      <td>2072</td>\n",
       "      <td>1.4</td>\n",
       "      <td>771</td>\n",
       "      <td>9</td>\n",
       "    </tr>\n",
       "  </tbody>\n",
       "</table>\n",
       "</div>"
      ],
      "text/plain": [
       "      Fastballs  velocity  spin_rate  pitch_percent  total_pitches  Injured\n",
       "1197         11      92.3       2072            1.4            771        9"
      ]
     },
     "execution_count": 7,
     "metadata": {},
     "output_type": "execute_result"
    }
   ],
   "source": [
    "processed_df.sample()"
   ]
  },
  {
   "cell_type": "code",
   "execution_count": 8,
   "metadata": {},
   "outputs": [],
   "source": [
    "import tensorflow as tf\n",
    "from sklearn.model_selection import train_test_split"
   ]
  },
  {
   "cell_type": "code",
   "execution_count": 11,
   "metadata": {},
   "outputs": [],
   "source": [
    "X_train, X_test = train_test_split(processed_df, \n",
    "                         test_size = 0.1,\n",
    "#                          stratify=processed_df.HeartDisease)\n",
    "                         stratify=processed_df.Injured)\n",
    "\n",
    "\n",
    "# X_test_label = X_test.HeartDisease\n",
    "X_test_label = X_test.Injured\n",
    "# X_test = X_test[[i for i in X_test if i!='HeartDisease']]\n",
    "X_test = X_test[[i for i in X_test if i!='Injured']]\n",
    "\n",
    "\n",
    "# X_train_label = X_train.HeartDisease\n",
    "X_train_label = X_train.Injured\n",
    "# X_train = X_train[[i for i in X_train if i!='HeartDisease']]\n",
    "X_train = X_train[[i for i in X_train if i!='Injured']]\n",
    "\n",
    "\n",
    "X_train = X_train.to_numpy()\n",
    "X_train = np.reshape(X_train, (X_train.shape[0],1,X_train.shape[1]))"
   ]
  },
  {
   "cell_type": "code",
   "execution_count": 15,
   "metadata": {},
   "outputs": [],
   "source": [
    "from keras.layers import Dense, Dropout, Activation, LSTM, Flatten, MaxPooling1D, Conv1D\n",
    "from keras.models import Sequential\n",
    "\n",
    "model = Sequential()\n",
    "# model.add(LSTM(units=64, input_shape=(1, 11), return_sequences=True))\n",
    "model.add(LSTM(units=64, input_shape=(1, 5), return_sequences=True))\n",
    "\n",
    "model.add(Activation('relu'))\n",
    "\n",
    "model.add(LSTM(units=128, return_sequences=True))\n",
    "model.add(Activation('relu'))\n",
    "\n",
    "model.add(LSTM(units=256, return_sequences=True))\n",
    "model.add(Activation('relu'))\n",
    "\n",
    "model.add(LSTM(units=512, return_sequences=True))\n",
    "model.add(Activation('relu'))\n",
    "\n",
    "model.add(Conv1D(filters=1024, kernel_size=(1)))\n",
    "model.add(Activation('relu'))\n",
    "model.add(MaxPooling1D(pool_size=(1)))\n",
    "\n",
    "model.add(Conv1D(filters=2048, kernel_size=(1)))\n",
    "model.add(Activation('relu'))\n",
    "model.add(MaxPooling1D(pool_size=(1)))\n",
    "\n",
    "model.add(Dense(500))\n",
    "model.add(Activation('relu'))\n",
    "\n",
    "model.add(Dense(100))\n",
    "model.add(Activation('relu'))\n",
    "\n",
    "model.add(Dropout(0.2))\n",
    "\n",
    "model.add(Dense(1))\n",
    "model.add(Activation('tanh'))\n",
    "\n",
    "model.compile(optimizer=\"Adamax\", loss=\"binary_crossentropy\", metrics=[\"accuracy\"])"
   ]
  },
  {
   "cell_type": "code",
   "execution_count": 16,
   "metadata": {},
   "outputs": [],
   "source": [
    "import tensorflow as tf\n",
    "cb = tf.keras.callbacks.EarlyStopping(monitor='accuracy', patience=5)"
   ]
  },
  {
   "cell_type": "code",
   "execution_count": 17,
   "metadata": {
    "scrolled": true
   },
   "outputs": [
    {
     "name": "stdout",
     "output_type": "stream",
     "text": [
      "Epoch 1/25\n",
      "114/114 [==============================] - 16s 102ms/step - loss: 0.3660 - accuracy: 0.9304 - val_loss: 0.2142 - val_accuracy: 0.9627\n",
      "Epoch 2/25\n",
      "114/114 [==============================] - 11s 93ms/step - loss: 0.2081 - accuracy: 0.9472 - val_loss: 0.2140 - val_accuracy: 0.9627\n",
      "Epoch 3/25\n",
      "114/114 [==============================] - 11s 93ms/step - loss: 0.2111 - accuracy: 0.9486 - val_loss: 0.2120 - val_accuracy: 0.9627\n",
      "Epoch 4/25\n",
      "114/114 [==============================] - 11s 93ms/step - loss: 0.2381 - accuracy: 0.9379 - val_loss: 0.2079 - val_accuracy: 0.9627\n",
      "Epoch 5/25\n",
      "114/114 [==============================] - 11s 94ms/step - loss: 0.2647 - accuracy: 0.9405 - val_loss: 0.2075 - val_accuracy: 0.9627\n",
      "Epoch 6/25\n",
      "114/114 [==============================] - 11s 101ms/step - loss: 0.2442 - accuracy: 0.9340 - val_loss: 0.2080 - val_accuracy: 0.9627\n"
     ]
    }
   ],
   "source": [
    "hst = model.fit(tf.cast(X_train, tf.float32), \n",
    "                tf.cast(X_train_label, tf.int8),\n",
    "                validation_split=0.2, \n",
    "                epochs =25,\n",
    "                batch_size=16, \n",
    "                shuffle=True,\n",
    "                callbacks=cb)"
   ]
  },
  {
   "cell_type": "code",
   "execution_count": 19,
   "metadata": {},
   "outputs": [
    {
     "name": "stdout",
     "output_type": "stream",
     "text": [
      "8/8 [==============================] - 0s 8ms/step - loss: 0.1985 - accuracy: 0.9486\n"
     ]
    },
    {
     "data": {
      "text/plain": [
       "[0.19848808646202087, 0.948616623878479]"
      ]
     },
     "execution_count": 19,
     "metadata": {},
     "output_type": "execute_result"
    }
   ],
   "source": [
    "X_test = X_test.to_numpy()\n",
    "X_test = np.reshape(X_test, (X_test.shape[0],1,X_test.shape[1]))\n",
    "model.evaluate(tf.cast(X_test, tf.float32), \n",
    "                tf.cast(X_test_label, tf.int8))"
   ]
  },
  {
   "cell_type": "code",
   "execution_count": 183,
   "metadata": {},
   "outputs": [],
   "source": [
    "predicted = []\n",
    "for i in range(df.shape[0]):\n",
    "    p = model.predict(np.reshape(np.array(processed_df.loc[i][:-1]), (1,1,11)))[0][0][0]\n",
    "    predicted.append(p)\n",
    "    \n",
    "df['predicted'] = [*map(round ,predicted)]\n",
    "series = df.apply(lambda x: x['HeartDisease']==x['predicted'] , axis=1)\n",
    "series.value_counts().plot(kind='bar')"
   ]
  },
  {
   "cell_type": "code",
   "execution_count": 157,
   "metadata": {},
   "outputs": [
    {
     "data": {
      "image/png": "[encoded data removed]",
      "text/plain": [
       "<Figure size 1224x504 with 2 Axes>"
      ]
     },
     "metadata": {
      "needs_background": "light"
     },
     "output_type": "display_data"
    }
   ],
   "source": [
    "# round3\n",
    "epochs = len(hst.epoch)\n",
    "accuracy = hst.history['accuracy']\n",
    "loss = hst.history['loss']\n",
    "val_loss = hst.history['val_loss']\n",
    "val_accuracy = hst.history['val_accuracy']\n",
    "\n",
    "plt.figure(figsize=(17, 7))\n",
    "plt.subplot(2, 2, 1)\n",
    "plt.plot(range(epochs), accuracy, label='Training Accuracy')\n",
    "plt.plot(range(epochs), val_accuracy, label='Validation Accuracy')\n",
    "plt.legend(loc='lower right')\n",
    "plt.title('Accuracy : Training vs. Validation ')\n",
    "\n",
    "plt.subplot(2, 2, 2)\n",
    "plt.plot(range(epochs), loss, label='Training Loss')\n",
    "plt.plot(range(epochs), val_loss, label='Validation Loss')\n",
    "plt.title('Loss : Training vs. Validation ')\n",
    "plt.legend(loc='upper right')\n",
    "plt.show()"
   ]
  }
 ],
 "metadata": {
  "kernelspec": {
   "display_name": "Python 3",
   "language": "python",
   "name": "python3"
  },
  "language_info": {
   "codemirror_mode": {
    "name": "ipython",
    "version": 3
   },
   "file_extension": ".py",
   "mimetype": "text/x-python",
   "name": "python",
   "nbconvert_exporter": "python",
   "pygments_lexer": "ipython3",
   "version": "3.8.3"
  }
 },
 "nbformat": 4,
 "nbformat_minor": 4
}
